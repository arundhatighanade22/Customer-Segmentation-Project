{
 "cells": [
  {
   "cell_type": "markdown",
   "id": "a6128490",
   "metadata": {},
   "source": [
    "# Customer Segmentation"
   ]
  },
  {
   "cell_type": "markdown",
   "id": "ee9b3e96",
   "metadata": {},
   "source": [
    "# Import  Libraries\n"
   ]
  },
  {
   "cell_type": "code",
   "execution_count": 1,
   "id": "d2a18501",
   "metadata": {},
   "outputs": [],
   "source": [
    "\n",
    "%matplotlib inline\n",
    "import matplotlib.pyplot as plt\n",
    "import pandas as pd\n",
    "import numpy as np\n",
    "import seaborn as sns\n",
    "import warnings\n",
    "warnings.filterwarnings(\"ignore\")\n",
    "from sklearn import cluster, metrics\n",
    "from sklearn import preprocessing\n",
    "from sklearn import model_selection\n",
    "from sklearn.decomposition import PCA\n",
    "from sklearn.preprocessing import scale\n",
    "from sklearn.ensemble import RandomForestRegressor\n",
    "from sklearn.linear_model import LinearRegression\n",
    "import statsmodels.formula.api as sm\n"
   ]
  },
  {
   "cell_type": "code",
   "execution_count": 2,
   "id": "13750a9f",
   "metadata": {},
   "outputs": [],
   "source": [
    "data = pd.read_csv(\"C:\\\\Users\\\\Dell\\\\Downloads\\\\data.csv\",encoding='latin1')"
   ]
  },
  {
   "cell_type": "code",
   "execution_count": 3,
   "id": "d543f768",
   "metadata": {},
   "outputs": [
    {
     "data": {
      "text/html": [
       "<div>\n",
       "<style scoped>\n",
       "    .dataframe tbody tr th:only-of-type {\n",
       "        vertical-align: middle;\n",
       "    }\n",
       "\n",
       "    .dataframe tbody tr th {\n",
       "        vertical-align: top;\n",
       "    }\n",
       "\n",
       "    .dataframe thead th {\n",
       "        text-align: right;\n",
       "    }\n",
       "</style>\n",
       "<table border=\"1\" class=\"dataframe\">\n",
       "  <thead>\n",
       "    <tr style=\"text-align: right;\">\n",
       "      <th></th>\n",
       "      <th>InvoiceNo</th>\n",
       "      <th>StockCode</th>\n",
       "      <th>Description</th>\n",
       "      <th>Quantity</th>\n",
       "      <th>InvoiceDate</th>\n",
       "      <th>UnitPrice</th>\n",
       "      <th>CustomerID</th>\n",
       "      <th>Country</th>\n",
       "    </tr>\n",
       "  </thead>\n",
       "  <tbody>\n",
       "    <tr>\n",
       "      <th>0</th>\n",
       "      <td>536365</td>\n",
       "      <td>85123A</td>\n",
       "      <td>WHITE HANGING HEART T-LIGHT HOLDER</td>\n",
       "      <td>6</td>\n",
       "      <td>12/1/2010 8:26</td>\n",
       "      <td>2.55</td>\n",
       "      <td>17850.0</td>\n",
       "      <td>United Kingdom</td>\n",
       "    </tr>\n",
       "    <tr>\n",
       "      <th>1</th>\n",
       "      <td>536365</td>\n",
       "      <td>71053</td>\n",
       "      <td>WHITE METAL LANTERN</td>\n",
       "      <td>6</td>\n",
       "      <td>12/1/2010 8:26</td>\n",
       "      <td>3.39</td>\n",
       "      <td>17850.0</td>\n",
       "      <td>United Kingdom</td>\n",
       "    </tr>\n",
       "    <tr>\n",
       "      <th>2</th>\n",
       "      <td>536365</td>\n",
       "      <td>84406B</td>\n",
       "      <td>CREAM CUPID HEARTS COAT HANGER</td>\n",
       "      <td>8</td>\n",
       "      <td>12/1/2010 8:26</td>\n",
       "      <td>2.75</td>\n",
       "      <td>17850.0</td>\n",
       "      <td>United Kingdom</td>\n",
       "    </tr>\n",
       "    <tr>\n",
       "      <th>3</th>\n",
       "      <td>536365</td>\n",
       "      <td>84029G</td>\n",
       "      <td>KNITTED UNION FLAG HOT WATER BOTTLE</td>\n",
       "      <td>6</td>\n",
       "      <td>12/1/2010 8:26</td>\n",
       "      <td>3.39</td>\n",
       "      <td>17850.0</td>\n",
       "      <td>United Kingdom</td>\n",
       "    </tr>\n",
       "    <tr>\n",
       "      <th>4</th>\n",
       "      <td>536365</td>\n",
       "      <td>84029E</td>\n",
       "      <td>RED WOOLLY HOTTIE WHITE HEART.</td>\n",
       "      <td>6</td>\n",
       "      <td>12/1/2010 8:26</td>\n",
       "      <td>3.39</td>\n",
       "      <td>17850.0</td>\n",
       "      <td>United Kingdom</td>\n",
       "    </tr>\n",
       "    <tr>\n",
       "      <th>5</th>\n",
       "      <td>536365</td>\n",
       "      <td>22752</td>\n",
       "      <td>SET 7 BABUSHKA NESTING BOXES</td>\n",
       "      <td>2</td>\n",
       "      <td>12/1/2010 8:26</td>\n",
       "      <td>7.65</td>\n",
       "      <td>17850.0</td>\n",
       "      <td>United Kingdom</td>\n",
       "    </tr>\n",
       "    <tr>\n",
       "      <th>6</th>\n",
       "      <td>536365</td>\n",
       "      <td>21730</td>\n",
       "      <td>GLASS STAR FROSTED T-LIGHT HOLDER</td>\n",
       "      <td>6</td>\n",
       "      <td>12/1/2010 8:26</td>\n",
       "      <td>4.25</td>\n",
       "      <td>17850.0</td>\n",
       "      <td>United Kingdom</td>\n",
       "    </tr>\n",
       "    <tr>\n",
       "      <th>7</th>\n",
       "      <td>536366</td>\n",
       "      <td>22633</td>\n",
       "      <td>HAND WARMER UNION JACK</td>\n",
       "      <td>6</td>\n",
       "      <td>12/1/2010 8:28</td>\n",
       "      <td>1.85</td>\n",
       "      <td>17850.0</td>\n",
       "      <td>United Kingdom</td>\n",
       "    </tr>\n",
       "    <tr>\n",
       "      <th>8</th>\n",
       "      <td>536366</td>\n",
       "      <td>22632</td>\n",
       "      <td>HAND WARMER RED POLKA DOT</td>\n",
       "      <td>6</td>\n",
       "      <td>12/1/2010 8:28</td>\n",
       "      <td>1.85</td>\n",
       "      <td>17850.0</td>\n",
       "      <td>United Kingdom</td>\n",
       "    </tr>\n",
       "    <tr>\n",
       "      <th>9</th>\n",
       "      <td>536367</td>\n",
       "      <td>84879</td>\n",
       "      <td>ASSORTED COLOUR BIRD ORNAMENT</td>\n",
       "      <td>32</td>\n",
       "      <td>12/1/2010 8:34</td>\n",
       "      <td>1.69</td>\n",
       "      <td>13047.0</td>\n",
       "      <td>United Kingdom</td>\n",
       "    </tr>\n",
       "  </tbody>\n",
       "</table>\n",
       "</div>"
      ],
      "text/plain": [
       "  InvoiceNo StockCode                          Description  Quantity  \\\n",
       "0    536365    85123A   WHITE HANGING HEART T-LIGHT HOLDER         6   \n",
       "1    536365     71053                  WHITE METAL LANTERN         6   \n",
       "2    536365    84406B       CREAM CUPID HEARTS COAT HANGER         8   \n",
       "3    536365    84029G  KNITTED UNION FLAG HOT WATER BOTTLE         6   \n",
       "4    536365    84029E       RED WOOLLY HOTTIE WHITE HEART.         6   \n",
       "5    536365     22752         SET 7 BABUSHKA NESTING BOXES         2   \n",
       "6    536365     21730    GLASS STAR FROSTED T-LIGHT HOLDER         6   \n",
       "7    536366     22633               HAND WARMER UNION JACK         6   \n",
       "8    536366     22632            HAND WARMER RED POLKA DOT         6   \n",
       "9    536367     84879        ASSORTED COLOUR BIRD ORNAMENT        32   \n",
       "\n",
       "      InvoiceDate  UnitPrice  CustomerID         Country  \n",
       "0  12/1/2010 8:26       2.55     17850.0  United Kingdom  \n",
       "1  12/1/2010 8:26       3.39     17850.0  United Kingdom  \n",
       "2  12/1/2010 8:26       2.75     17850.0  United Kingdom  \n",
       "3  12/1/2010 8:26       3.39     17850.0  United Kingdom  \n",
       "4  12/1/2010 8:26       3.39     17850.0  United Kingdom  \n",
       "5  12/1/2010 8:26       7.65     17850.0  United Kingdom  \n",
       "6  12/1/2010 8:26       4.25     17850.0  United Kingdom  \n",
       "7  12/1/2010 8:28       1.85     17850.0  United Kingdom  \n",
       "8  12/1/2010 8:28       1.85     17850.0  United Kingdom  \n",
       "9  12/1/2010 8:34       1.69     13047.0  United Kingdom  "
      ]
     },
     "execution_count": 3,
     "metadata": {},
     "output_type": "execute_result"
    }
   ],
   "source": [
    "data.head(10)"
   ]
  },
  {
   "cell_type": "code",
   "execution_count": 4,
   "id": "4e6dba7b",
   "metadata": {},
   "outputs": [
    {
     "data": {
      "text/html": [
       "<div>\n",
       "<style scoped>\n",
       "    .dataframe tbody tr th:only-of-type {\n",
       "        vertical-align: middle;\n",
       "    }\n",
       "\n",
       "    .dataframe tbody tr th {\n",
       "        vertical-align: top;\n",
       "    }\n",
       "\n",
       "    .dataframe thead th {\n",
       "        text-align: right;\n",
       "    }\n",
       "</style>\n",
       "<table border=\"1\" class=\"dataframe\">\n",
       "  <thead>\n",
       "    <tr style=\"text-align: right;\">\n",
       "      <th></th>\n",
       "      <th>Quantity</th>\n",
       "      <th>UnitPrice</th>\n",
       "      <th>CustomerID</th>\n",
       "    </tr>\n",
       "  </thead>\n",
       "  <tbody>\n",
       "    <tr>\n",
       "      <th>count</th>\n",
       "      <td>541909.000000</td>\n",
       "      <td>541909.000000</td>\n",
       "      <td>406829.000000</td>\n",
       "    </tr>\n",
       "    <tr>\n",
       "      <th>mean</th>\n",
       "      <td>9.552250</td>\n",
       "      <td>4.611114</td>\n",
       "      <td>15287.690570</td>\n",
       "    </tr>\n",
       "    <tr>\n",
       "      <th>std</th>\n",
       "      <td>218.081158</td>\n",
       "      <td>96.759853</td>\n",
       "      <td>1713.600303</td>\n",
       "    </tr>\n",
       "    <tr>\n",
       "      <th>min</th>\n",
       "      <td>-80995.000000</td>\n",
       "      <td>-11062.060000</td>\n",
       "      <td>12346.000000</td>\n",
       "    </tr>\n",
       "    <tr>\n",
       "      <th>25%</th>\n",
       "      <td>1.000000</td>\n",
       "      <td>1.250000</td>\n",
       "      <td>13953.000000</td>\n",
       "    </tr>\n",
       "    <tr>\n",
       "      <th>50%</th>\n",
       "      <td>3.000000</td>\n",
       "      <td>2.080000</td>\n",
       "      <td>15152.000000</td>\n",
       "    </tr>\n",
       "    <tr>\n",
       "      <th>75%</th>\n",
       "      <td>10.000000</td>\n",
       "      <td>4.130000</td>\n",
       "      <td>16791.000000</td>\n",
       "    </tr>\n",
       "    <tr>\n",
       "      <th>max</th>\n",
       "      <td>80995.000000</td>\n",
       "      <td>38970.000000</td>\n",
       "      <td>18287.000000</td>\n",
       "    </tr>\n",
       "  </tbody>\n",
       "</table>\n",
       "</div>"
      ],
      "text/plain": [
       "            Quantity      UnitPrice     CustomerID\n",
       "count  541909.000000  541909.000000  406829.000000\n",
       "mean        9.552250       4.611114   15287.690570\n",
       "std       218.081158      96.759853    1713.600303\n",
       "min    -80995.000000  -11062.060000   12346.000000\n",
       "25%         1.000000       1.250000   13953.000000\n",
       "50%         3.000000       2.080000   15152.000000\n",
       "75%        10.000000       4.130000   16791.000000\n",
       "max     80995.000000   38970.000000   18287.000000"
      ]
     },
     "execution_count": 4,
     "metadata": {},
     "output_type": "execute_result"
    }
   ],
   "source": [
    "data.describe()"
   ]
  },
  {
   "cell_type": "markdown",
   "id": "7f18541f",
   "metadata": {},
   "source": [
    "# Data Pre-Processing"
   ]
  },
  {
   "cell_type": "code",
   "execution_count": 5,
   "id": "714cd3dc",
   "metadata": {},
   "outputs": [
    {
     "name": "stdout",
     "output_type": "stream",
     "text": [
      "<class 'pandas.core.frame.DataFrame'>\n",
      "RangeIndex: 541909 entries, 0 to 541908\n",
      "Data columns (total 8 columns):\n",
      " #   Column       Non-Null Count   Dtype  \n",
      "---  ------       --------------   -----  \n",
      " 0   InvoiceNo    541909 non-null  object \n",
      " 1   StockCode    541909 non-null  object \n",
      " 2   Description  540455 non-null  object \n",
      " 3   Quantity     541909 non-null  int64  \n",
      " 4   InvoiceDate  541909 non-null  object \n",
      " 5   UnitPrice    541909 non-null  float64\n",
      " 6   CustomerID   406829 non-null  float64\n",
      " 7   Country      541909 non-null  object \n",
      "dtypes: float64(2), int64(1), object(5)\n",
      "memory usage: 33.1+ MB\n"
     ]
    }
   ],
   "source": [
    "data.info()"
   ]
  },
  {
   "cell_type": "code",
   "execution_count": 6,
   "id": "17ebcb03",
   "metadata": {},
   "outputs": [
    {
     "name": "stdout",
     "output_type": "stream",
     "text": [
      "CPU times: total: 3.48 s\n",
      "Wall time: 3.48 s\n"
     ]
    }
   ],
   "source": [
    "%%time\n",
    "#make date format consistent \n",
    "data['InvoiceDate']=pd.to_datetime((data['InvoiceDate']))"
   ]
  },
  {
   "cell_type": "code",
   "execution_count": 7,
   "id": "21bbb73e",
   "metadata": {},
   "outputs": [],
   "source": [
    "#make country a categorical variable\n",
    "data[\"Country\"] = data[\"Country\"].astype('category')"
   ]
  },
  {
   "cell_type": "markdown",
   "id": "6781117e",
   "metadata": {},
   "source": [
    "# Missing Values"
   ]
  },
  {
   "cell_type": "code",
   "execution_count": 8,
   "id": "1e17cd3f",
   "metadata": {},
   "outputs": [
    {
     "data": {
      "text/html": [
       "<div>\n",
       "<style scoped>\n",
       "    .dataframe tbody tr th:only-of-type {\n",
       "        vertical-align: middle;\n",
       "    }\n",
       "\n",
       "    .dataframe tbody tr th {\n",
       "        vertical-align: top;\n",
       "    }\n",
       "\n",
       "    .dataframe thead th {\n",
       "        text-align: right;\n",
       "    }\n",
       "</style>\n",
       "<table border=\"1\" class=\"dataframe\">\n",
       "  <thead>\n",
       "    <tr style=\"text-align: right;\">\n",
       "      <th></th>\n",
       "      <th>Count</th>\n",
       "    </tr>\n",
       "  </thead>\n",
       "  <tbody>\n",
       "    <tr>\n",
       "      <th>CustomerID</th>\n",
       "      <td>135080</td>\n",
       "    </tr>\n",
       "    <tr>\n",
       "      <th>Description</th>\n",
       "      <td>1454</td>\n",
       "    </tr>\n",
       "    <tr>\n",
       "      <th>InvoiceNo</th>\n",
       "      <td>0</td>\n",
       "    </tr>\n",
       "    <tr>\n",
       "      <th>StockCode</th>\n",
       "      <td>0</td>\n",
       "    </tr>\n",
       "    <tr>\n",
       "      <th>Quantity</th>\n",
       "      <td>0</td>\n",
       "    </tr>\n",
       "    <tr>\n",
       "      <th>InvoiceDate</th>\n",
       "      <td>0</td>\n",
       "    </tr>\n",
       "    <tr>\n",
       "      <th>UnitPrice</th>\n",
       "      <td>0</td>\n",
       "    </tr>\n",
       "    <tr>\n",
       "      <th>Country</th>\n",
       "      <td>0</td>\n",
       "    </tr>\n",
       "  </tbody>\n",
       "</table>\n",
       "</div>"
      ],
      "text/plain": [
       "              Count\n",
       "CustomerID   135080\n",
       "Description    1454\n",
       "InvoiceNo         0\n",
       "StockCode         0\n",
       "Quantity          0\n",
       "InvoiceDate       0\n",
       "UnitPrice         0\n",
       "Country           0"
      ]
     },
     "execution_count": 8,
     "metadata": {},
     "output_type": "execute_result"
    }
   ],
   "source": [
    "\n",
    "\n",
    "## This function counts and creates a dataframe containing the nuber of missing values per column.\n",
    "\n",
    "# Declare the name of the fuction \n",
    "def count_missing(data):\n",
    "    # creates a dataframe containing the sum of all missing values\n",
    "    missing_count = pd.DataFrame(data.isnull().sum(),\\\n",
    "                                 # names column \"Count\" and sorts values in descending order\n",
    "                                 columns=['Count']).sort_values(by=['Count'],\\\n",
    "                                                                ascending=False)\n",
    "    return missing_count\n",
    "\n",
    "#apply the function to the data \n",
    "count_missing(data)"
   ]
  },
  {
   "cell_type": "markdown",
   "id": "3e0264a4",
   "metadata": {},
   "source": [
    "# Dealing With Missing Values"
   ]
  },
  {
   "cell_type": "code",
   "execution_count": 9,
   "id": "4339c691",
   "metadata": {},
   "outputs": [],
   "source": [
    "\n",
    "\n",
    "# replace missing descriptions with \"Missing\"\n",
    "data[\"Description\"] = data[\"Description\"].fillna(\"Missing\")\n"
   ]
  },
  {
   "cell_type": "code",
   "execution_count": 10,
   "id": "6de3a67e",
   "metadata": {},
   "outputs": [
    {
     "data": {
      "text/html": [
       "<div>\n",
       "<style scoped>\n",
       "    .dataframe tbody tr th:only-of-type {\n",
       "        vertical-align: middle;\n",
       "    }\n",
       "\n",
       "    .dataframe tbody tr th {\n",
       "        vertical-align: top;\n",
       "    }\n",
       "\n",
       "    .dataframe thead th {\n",
       "        text-align: right;\n",
       "    }\n",
       "</style>\n",
       "<table border=\"1\" class=\"dataframe\">\n",
       "  <thead>\n",
       "    <tr style=\"text-align: right;\">\n",
       "      <th></th>\n",
       "      <th>Count</th>\n",
       "    </tr>\n",
       "  </thead>\n",
       "  <tbody>\n",
       "    <tr>\n",
       "      <th>InvoiceNo</th>\n",
       "      <td>0</td>\n",
       "    </tr>\n",
       "    <tr>\n",
       "      <th>StockCode</th>\n",
       "      <td>0</td>\n",
       "    </tr>\n",
       "    <tr>\n",
       "      <th>Description</th>\n",
       "      <td>0</td>\n",
       "    </tr>\n",
       "    <tr>\n",
       "      <th>Quantity</th>\n",
       "      <td>0</td>\n",
       "    </tr>\n",
       "    <tr>\n",
       "      <th>InvoiceDate</th>\n",
       "      <td>0</td>\n",
       "    </tr>\n",
       "    <tr>\n",
       "      <th>UnitPrice</th>\n",
       "      <td>0</td>\n",
       "    </tr>\n",
       "    <tr>\n",
       "      <th>CustomerID</th>\n",
       "      <td>0</td>\n",
       "    </tr>\n",
       "    <tr>\n",
       "      <th>Country</th>\n",
       "      <td>0</td>\n",
       "    </tr>\n",
       "  </tbody>\n",
       "</table>\n",
       "</div>"
      ],
      "text/plain": [
       "             Count\n",
       "InvoiceNo        0\n",
       "StockCode        0\n",
       "Description      0\n",
       "Quantity         0\n",
       "InvoiceDate      0\n",
       "UnitPrice        0\n",
       "CustomerID       0\n",
       "Country          0"
      ]
     },
     "execution_count": 10,
     "metadata": {},
     "output_type": "execute_result"
    }
   ],
   "source": [
    "#delete all rows with a missing \"CustomerID\"\n",
    "data.dropna(axis = 0, subset = ['CustomerID'], inplace = True)\n",
    "\n",
    "#check that there aren't any missing values\n",
    "count_missing(data)"
   ]
  },
  {
   "cell_type": "markdown",
   "id": "fe6663b6",
   "metadata": {},
   "source": [
    "# Create New Variables"
   ]
  },
  {
   "cell_type": "code",
   "execution_count": 11,
   "id": "a592f621",
   "metadata": {},
   "outputs": [
    {
     "name": "stdout",
     "output_type": "stream",
     "text": [
      "CPU times: total: 7.5 s\n",
      "Wall time: 7.57 s\n"
     ]
    }
   ],
   "source": [
    "%%time\n",
    "#create a function that will assign 0 to all variables unless the first character of 'InvoiceNo' in 'C'\n",
    "def cancel(row):\n",
    "    value = 0\n",
    "    if row['InvoiceNo'][0] == 'C':\n",
    "        value = 1\n",
    "    return value\n",
    "\n",
    "# Create a new column 'Cancel' to attach to 'data' and set it to the value returned \n",
    "  #by the function cancel().\n",
    "    \n",
    "# The code 'axis=1' makes the apply function process the dataset by row, \n",
    "  #as opposed to by column which is the default option.\n",
    "data['Cancel'] = data.apply(cancel, axis=1)\n"
   ]
  },
  {
   "cell_type": "code",
   "execution_count": 12,
   "id": "f4d1fbf5",
   "metadata": {},
   "outputs": [
    {
     "data": {
      "text/html": [
       "<div>\n",
       "<style scoped>\n",
       "    .dataframe tbody tr th:only-of-type {\n",
       "        vertical-align: middle;\n",
       "    }\n",
       "\n",
       "    .dataframe tbody tr th {\n",
       "        vertical-align: top;\n",
       "    }\n",
       "\n",
       "    .dataframe thead th {\n",
       "        text-align: right;\n",
       "    }\n",
       "</style>\n",
       "<table border=\"1\" class=\"dataframe\">\n",
       "  <thead>\n",
       "    <tr style=\"text-align: right;\">\n",
       "      <th></th>\n",
       "      <th>InvoiceNo</th>\n",
       "      <th>StockCode</th>\n",
       "      <th>Description</th>\n",
       "      <th>Quantity</th>\n",
       "      <th>InvoiceDate</th>\n",
       "      <th>UnitPrice</th>\n",
       "      <th>CustomerID</th>\n",
       "      <th>Country</th>\n",
       "      <th>Cancel</th>\n",
       "    </tr>\n",
       "  </thead>\n",
       "  <tbody>\n",
       "    <tr>\n",
       "      <th>141</th>\n",
       "      <td>C536379</td>\n",
       "      <td>D</td>\n",
       "      <td>Discount</td>\n",
       "      <td>-1</td>\n",
       "      <td>2010-12-01 09:41:00</td>\n",
       "      <td>27.50</td>\n",
       "      <td>14527.0</td>\n",
       "      <td>United Kingdom</td>\n",
       "      <td>1</td>\n",
       "    </tr>\n",
       "    <tr>\n",
       "      <th>154</th>\n",
       "      <td>C536383</td>\n",
       "      <td>35004C</td>\n",
       "      <td>SET OF 3 COLOURED  FLYING DUCKS</td>\n",
       "      <td>-1</td>\n",
       "      <td>2010-12-01 09:49:00</td>\n",
       "      <td>4.65</td>\n",
       "      <td>15311.0</td>\n",
       "      <td>United Kingdom</td>\n",
       "      <td>1</td>\n",
       "    </tr>\n",
       "    <tr>\n",
       "      <th>235</th>\n",
       "      <td>C536391</td>\n",
       "      <td>22556</td>\n",
       "      <td>PLASTERS IN TIN CIRCUS PARADE</td>\n",
       "      <td>-12</td>\n",
       "      <td>2010-12-01 10:24:00</td>\n",
       "      <td>1.65</td>\n",
       "      <td>17548.0</td>\n",
       "      <td>United Kingdom</td>\n",
       "      <td>1</td>\n",
       "    </tr>\n",
       "  </tbody>\n",
       "</table>\n",
       "</div>"
      ],
      "text/plain": [
       "    InvoiceNo StockCode                      Description  Quantity  \\\n",
       "141   C536379         D                         Discount        -1   \n",
       "154   C536383    35004C  SET OF 3 COLOURED  FLYING DUCKS        -1   \n",
       "235   C536391     22556   PLASTERS IN TIN CIRCUS PARADE        -12   \n",
       "\n",
       "            InvoiceDate  UnitPrice  CustomerID         Country  Cancel  \n",
       "141 2010-12-01 09:41:00      27.50     14527.0  United Kingdom       1  \n",
       "154 2010-12-01 09:49:00       4.65     15311.0  United Kingdom       1  \n",
       "235 2010-12-01 10:24:00       1.65     17548.0  United Kingdom       1  "
      ]
     },
     "execution_count": 12,
     "metadata": {},
     "output_type": "execute_result"
    }
   ],
   "source": [
    "#check that there are some cancelled orders and that the new column is in the data\n",
    "data[data['Cancel']== 1].head(3)\n"
   ]
  },
  {
   "cell_type": "code",
   "execution_count": 13,
   "id": "506487a5",
   "metadata": {},
   "outputs": [],
   "source": [
    "#check how many cancelled VS non-cancelled orders there are. \n",
    "canceled = data['Cancel'].value_counts()\n",
    "\n",
    "# rename the axis so that they show in the picture\n",
    "canceled = canceled.rename({0: 'Non-canceled', 1: 'Canceled'})"
   ]
  },
  {
   "cell_type": "code",
   "execution_count": 14,
   "id": "983d20f5",
   "metadata": {},
   "outputs": [
    {
     "data": {
      "image/png": "[encoded data removed]",
      "text/plain": [
       "<Figure size 432x288 with 1 Axes>"
      ]
     },
     "metadata": {
      "needs_background": "light"
     },
     "output_type": "display_data"
    }
   ],
   "source": [
    "# bar graph of canceled vs non-canceled orders \n",
    "canceled.plot.barh();"
   ]
  },
  {
   "cell_type": "code",
   "execution_count": 15,
   "id": "3f55d87a",
   "metadata": {},
   "outputs": [
    {
     "data": {
      "text/plain": [
       "0.021888803403887137"
      ]
     },
     "execution_count": 15,
     "metadata": {},
     "output_type": "execute_result"
    }
   ],
   "source": [
    "#calculate the probability of an order to be cancelled.\n",
    "pco = (8905/(397924+8905))\n",
    "pco"
   ]
  },
  {
   "cell_type": "code",
   "execution_count": 16,
   "id": "325b85b1",
   "metadata": {},
   "outputs": [
    {
     "data": {
      "text/html": [
       "<div>\n",
       "<style scoped>\n",
       "    .dataframe tbody tr th:only-of-type {\n",
       "        vertical-align: middle;\n",
       "    }\n",
       "\n",
       "    .dataframe tbody tr th {\n",
       "        vertical-align: top;\n",
       "    }\n",
       "\n",
       "    .dataframe thead th {\n",
       "        text-align: right;\n",
       "    }\n",
       "</style>\n",
       "<table border=\"1\" class=\"dataframe\">\n",
       "  <thead>\n",
       "    <tr style=\"text-align: right;\">\n",
       "      <th></th>\n",
       "      <th>InvoiceNo</th>\n",
       "      <th>StockCode</th>\n",
       "      <th>Description</th>\n",
       "      <th>Quantity</th>\n",
       "      <th>InvoiceDate</th>\n",
       "      <th>UnitPrice</th>\n",
       "      <th>CustomerID</th>\n",
       "      <th>Country</th>\n",
       "      <th>Cancel</th>\n",
       "      <th>Tra_Spending</th>\n",
       "    </tr>\n",
       "  </thead>\n",
       "  <tbody>\n",
       "    <tr>\n",
       "      <th>0</th>\n",
       "      <td>536365</td>\n",
       "      <td>85123A</td>\n",
       "      <td>WHITE HANGING HEART T-LIGHT HOLDER</td>\n",
       "      <td>6</td>\n",
       "      <td>2010-12-01 08:26:00</td>\n",
       "      <td>2.55</td>\n",
       "      <td>17850.0</td>\n",
       "      <td>United Kingdom</td>\n",
       "      <td>0</td>\n",
       "      <td>15.30</td>\n",
       "    </tr>\n",
       "    <tr>\n",
       "      <th>1</th>\n",
       "      <td>536365</td>\n",
       "      <td>71053</td>\n",
       "      <td>WHITE METAL LANTERN</td>\n",
       "      <td>6</td>\n",
       "      <td>2010-12-01 08:26:00</td>\n",
       "      <td>3.39</td>\n",
       "      <td>17850.0</td>\n",
       "      <td>United Kingdom</td>\n",
       "      <td>0</td>\n",
       "      <td>20.34</td>\n",
       "    </tr>\n",
       "    <tr>\n",
       "      <th>2</th>\n",
       "      <td>536365</td>\n",
       "      <td>84406B</td>\n",
       "      <td>CREAM CUPID HEARTS COAT HANGER</td>\n",
       "      <td>8</td>\n",
       "      <td>2010-12-01 08:26:00</td>\n",
       "      <td>2.75</td>\n",
       "      <td>17850.0</td>\n",
       "      <td>United Kingdom</td>\n",
       "      <td>0</td>\n",
       "      <td>22.00</td>\n",
       "    </tr>\n",
       "  </tbody>\n",
       "</table>\n",
       "</div>"
      ],
      "text/plain": [
       "  InvoiceNo StockCode                         Description  Quantity  \\\n",
       "0    536365    85123A  WHITE HANGING HEART T-LIGHT HOLDER         6   \n",
       "1    536365     71053                 WHITE METAL LANTERN         6   \n",
       "2    536365    84406B      CREAM CUPID HEARTS COAT HANGER         8   \n",
       "\n",
       "          InvoiceDate  UnitPrice  CustomerID         Country  Cancel  \\\n",
       "0 2010-12-01 08:26:00       2.55     17850.0  United Kingdom       0   \n",
       "1 2010-12-01 08:26:00       3.39     17850.0  United Kingdom       0   \n",
       "2 2010-12-01 08:26:00       2.75     17850.0  United Kingdom       0   \n",
       "\n",
       "   Tra_Spending  \n",
       "0         15.30  \n",
       "1         20.34  \n",
       "2         22.00  "
      ]
     },
     "execution_count": 16,
     "metadata": {},
     "output_type": "execute_result"
    }
   ],
   "source": [
    "##Transaction Spending\n",
    "data['Tra_Spending']= (data['Quantity'])*(data['UnitPrice'])\n",
    "data.head(3)\n"
   ]
  },
  {
   "cell_type": "markdown",
   "id": "4194a047",
   "metadata": {},
   "source": [
    "# Grouping data by \"CustomerID\"\n",
    "##Sum \"Quantity\" , \"Tra_Spending\" and \"Cancel\"¶"
   ]
  },
  {
   "cell_type": "code",
   "execution_count": 17,
   "id": "7b37f35c",
   "metadata": {},
   "outputs": [
    {
     "data": {
      "text/html": [
       "<div>\n",
       "<style scoped>\n",
       "    .dataframe tbody tr th:only-of-type {\n",
       "        vertical-align: middle;\n",
       "    }\n",
       "\n",
       "    .dataframe tbody tr th {\n",
       "        vertical-align: top;\n",
       "    }\n",
       "\n",
       "    .dataframe thead th {\n",
       "        text-align: right;\n",
       "    }\n",
       "</style>\n",
       "<table border=\"1\" class=\"dataframe\">\n",
       "  <thead>\n",
       "    <tr style=\"text-align: right;\">\n",
       "      <th></th>\n",
       "      <th>Quantity</th>\n",
       "      <th>Tra_Spending</th>\n",
       "      <th>Cancel</th>\n",
       "    </tr>\n",
       "    <tr>\n",
       "      <th>CustomerID</th>\n",
       "      <th></th>\n",
       "      <th></th>\n",
       "      <th></th>\n",
       "    </tr>\n",
       "  </thead>\n",
       "  <tbody>\n",
       "    <tr>\n",
       "      <th>12346.0</th>\n",
       "      <td>0</td>\n",
       "      <td>0.00</td>\n",
       "      <td>1</td>\n",
       "    </tr>\n",
       "    <tr>\n",
       "      <th>12347.0</th>\n",
       "      <td>2458</td>\n",
       "      <td>4310.00</td>\n",
       "      <td>0</td>\n",
       "    </tr>\n",
       "    <tr>\n",
       "      <th>12348.0</th>\n",
       "      <td>2341</td>\n",
       "      <td>1797.24</td>\n",
       "      <td>0</td>\n",
       "    </tr>\n",
       "  </tbody>\n",
       "</table>\n",
       "</div>"
      ],
      "text/plain": [
       "            Quantity  Tra_Spending  Cancel\n",
       "CustomerID                                \n",
       "12346.0            0          0.00       1\n",
       "12347.0         2458       4310.00       0\n",
       "12348.0         2341       1797.24       0"
      ]
     },
     "execution_count": 17,
     "metadata": {},
     "output_type": "execute_result"
    }
   ],
   "source": [
    "#group dataset by cystomerID to start creating customer profiles. \n",
    "#The following code groups the data by customerID and sum quantity, transaction spending, and number of cancelled orders\n",
    "aggQ=data.groupby('CustomerID')['Quantity','Tra_Spending', 'Cancel'].sum()\n",
    "\n",
    "aggQ.head(3)"
   ]
  },
  {
   "cell_type": "markdown",
   "id": "fdce9754",
   "metadata": {},
   "source": [
    "# Count \"InvoiveNo\""
   ]
  },
  {
   "cell_type": "code",
   "execution_count": 18,
   "id": "588395de",
   "metadata": {},
   "outputs": [
    {
     "data": {
      "text/plain": [
       "CustomerID\n",
       "12346.0      2\n",
       "12347.0    182\n",
       "12348.0     31\n",
       "Name: InvoiceNo, dtype: int64"
      ]
     },
     "execution_count": 18,
     "metadata": {},
     "output_type": "execute_result"
    }
   ],
   "source": [
    "\n",
    "#group by custmer and count unique invoiceNo to see how many oder the customer has placed in the time the data spans.\n",
    "Inv = data.groupby('CustomerID')['InvoiceNo'].count()\n",
    "Inv.head(3)"
   ]
  },
  {
   "cell_type": "markdown",
   "id": "6d48edaf",
   "metadata": {},
   "source": [
    "# Create \"days_as_customer\""
   ]
  },
  {
   "cell_type": "code",
   "execution_count": 19,
   "id": "a0173842",
   "metadata": {},
   "outputs": [
    {
     "data": {
      "text/html": [
       "<div>\n",
       "<style scoped>\n",
       "    .dataframe tbody tr th:only-of-type {\n",
       "        vertical-align: middle;\n",
       "    }\n",
       "\n",
       "    .dataframe tbody tr th {\n",
       "        vertical-align: top;\n",
       "    }\n",
       "\n",
       "    .dataframe thead th {\n",
       "        text-align: right;\n",
       "    }\n",
       "</style>\n",
       "<table border=\"1\" class=\"dataframe\">\n",
       "  <thead>\n",
       "    <tr style=\"text-align: right;\">\n",
       "      <th></th>\n",
       "      <th>CustomerID</th>\n",
       "      <th>Earliest_Invoice</th>\n",
       "      <th>Latest_Invoice</th>\n",
       "    </tr>\n",
       "  </thead>\n",
       "  <tbody>\n",
       "    <tr>\n",
       "      <th>0</th>\n",
       "      <td>12346.0</td>\n",
       "      <td>2011-01-18 10:01:00</td>\n",
       "      <td>2011-12-09 12:50:00</td>\n",
       "    </tr>\n",
       "    <tr>\n",
       "      <th>1</th>\n",
       "      <td>12347.0</td>\n",
       "      <td>2010-12-07 14:57:00</td>\n",
       "      <td>2011-12-09 12:50:00</td>\n",
       "    </tr>\n",
       "    <tr>\n",
       "      <th>2</th>\n",
       "      <td>12348.0</td>\n",
       "      <td>2010-12-16 19:09:00</td>\n",
       "      <td>2011-12-09 12:50:00</td>\n",
       "    </tr>\n",
       "  </tbody>\n",
       "</table>\n",
       "</div>"
      ],
      "text/plain": [
       "   CustomerID    Earliest_Invoice      Latest_Invoice\n",
       "0     12346.0 2011-01-18 10:01:00 2011-12-09 12:50:00\n",
       "1     12347.0 2010-12-07 14:57:00 2011-12-09 12:50:00\n",
       "2     12348.0 2010-12-16 19:09:00 2011-12-09 12:50:00"
      ]
     },
     "execution_count": 19,
     "metadata": {},
     "output_type": "execute_result"
    }
   ],
   "source": [
    "\n",
    "#### Create a varible that shows how much time a person has been a customer.\n",
    "\n",
    "#group by customerID and select the mininum date (i.e. the date at which the first order was placed)\n",
    "#as_index=false means that customer ID is a column and not the index\n",
    "days= data.groupby('CustomerID', as_index=False)['InvoiceDate'].min()\n",
    "\n",
    "#edit names of columns \n",
    "days.columns = ['CustomerID', 'Earliest_Invoice']\n",
    "\n",
    "#create a column with the date of the latest order placed\n",
    "days['Latest_Invoice'] = pd.to_datetime((data['InvoiceDate']).max())\n",
    "days.set_index('CustomerID')\n",
    "days.head(3)"
   ]
  },
  {
   "cell_type": "code",
   "execution_count": 20,
   "id": "ace6c0a9",
   "metadata": {},
   "outputs": [
    {
     "data": {
      "text/html": [
       "<div>\n",
       "<style scoped>\n",
       "    .dataframe tbody tr th:only-of-type {\n",
       "        vertical-align: middle;\n",
       "    }\n",
       "\n",
       "    .dataframe tbody tr th {\n",
       "        vertical-align: top;\n",
       "    }\n",
       "\n",
       "    .dataframe thead th {\n",
       "        text-align: right;\n",
       "    }\n",
       "</style>\n",
       "<table border=\"1\" class=\"dataframe\">\n",
       "  <thead>\n",
       "    <tr style=\"text-align: right;\">\n",
       "      <th></th>\n",
       "      <th>CustomerID</th>\n",
       "      <th>days_as_customer</th>\n",
       "    </tr>\n",
       "  </thead>\n",
       "  <tbody>\n",
       "    <tr>\n",
       "      <th>0</th>\n",
       "      <td>12346.0</td>\n",
       "      <td>326.0</td>\n",
       "    </tr>\n",
       "    <tr>\n",
       "      <th>1</th>\n",
       "      <td>12347.0</td>\n",
       "      <td>367.0</td>\n",
       "    </tr>\n",
       "    <tr>\n",
       "      <th>2</th>\n",
       "      <td>12348.0</td>\n",
       "      <td>358.0</td>\n",
       "    </tr>\n",
       "    <tr>\n",
       "      <th>3</th>\n",
       "      <td>12349.0</td>\n",
       "      <td>19.0</td>\n",
       "    </tr>\n",
       "    <tr>\n",
       "      <th>4</th>\n",
       "      <td>12350.0</td>\n",
       "      <td>310.0</td>\n",
       "    </tr>\n",
       "  </tbody>\n",
       "</table>\n",
       "</div>"
      ],
      "text/plain": [
       "   CustomerID  days_as_customer\n",
       "0     12346.0             326.0\n",
       "1     12347.0             367.0\n",
       "2     12348.0             358.0\n",
       "3     12349.0              19.0\n",
       "4     12350.0             310.0"
      ]
     },
     "execution_count": 20,
     "metadata": {},
     "output_type": "execute_result"
    }
   ],
   "source": [
    "#calculate how many days the person has been a customer by subtracting the date of the latest invoice\n",
    "# to the date of the first invoice\n",
    "days['days_as_customer'] = 1 + (days.Latest_Invoice-days.Earliest_Invoice).astype('timedelta64[D]')\n",
    "\n",
    "#delete earliest invoice and laterst invoice columns\n",
    "days.drop(['Earliest_Invoice', 'Latest_Invoice'], axis=1, inplace=True)\n",
    "days.head()\n"
   ]
  },
  {
   "cell_type": "code",
   "execution_count": 21,
   "id": "730dad52",
   "metadata": {},
   "outputs": [
    {
     "data": {
      "text/plain": [
       "CustomerID\n",
       "12346.0    United Kingdom\n",
       "12347.0           Iceland\n",
       "12348.0           Finland\n",
       "Name: Country, dtype: category\n",
       "Categories (38, object): ['Australia', 'Austria', 'Bahrain', 'Belgium', ..., 'USA', 'United Arab Emirates', 'United Kingdom', 'Unspecified']"
      ]
     },
     "execution_count": 21,
     "metadata": {},
     "output_type": "execute_result"
    }
   ],
   "source": [
    "##Add \"Country\" of customer\n",
    "#grouped data by customerID and pasted the value of 'Country' \n",
    "country = data.groupby('CustomerID')['Country'].first()\n",
    "country.head(3)"
   ]
  },
  {
   "cell_type": "code",
   "execution_count": 22,
   "id": "e3a18bac",
   "metadata": {},
   "outputs": [
    {
     "data": {
      "text/plain": [
       "CustomerID\n",
       "12346.0    1.040000\n",
       "12347.0    2.644011\n",
       "12348.0    5.764839\n",
       "Name: UnitPrice, dtype: float64"
      ]
     },
     "execution_count": 22,
     "metadata": {},
     "output_type": "execute_result"
    }
   ],
   "source": [
    "###Average \"UnitPrice\"\n",
    "#group by 'customerID' and average unitprice to see if the person buys expensive items or not\n",
    "meanex = data.groupby('CustomerID')['UnitPrice'].mean()\n",
    "meanex.head(3)"
   ]
  },
  {
   "cell_type": "code",
   "execution_count": 23,
   "id": "94c80f72",
   "metadata": {},
   "outputs": [],
   "source": [
    "###Join data together to create new dataset\n",
    "# create list of datafames to join that have the same index\n",
    "to_join=[Inv, country, meanex]\n",
    "# use join() to join aggQ with the three dataframes listed above\n",
    "joined = aggQ.join(to_join)\n",
    "\n",
    "joined = joined.join(days.set_index('CustomerID'))\n",
    "\n",
    "# edit column names\n",
    "joined.columns = ['total_quantity', 'total_spending',\\\n",
    "                    'total_cancelled_orders', 'total_orders_placed',\\\n",
    "                    'country_of_origin', 'average_price_of_items', 'days_as_customer']"
   ]
  },
  {
   "cell_type": "code",
   "execution_count": 24,
   "id": "057cb3f1",
   "metadata": {},
   "outputs": [],
   "source": [
    "#delete all negative values\n",
    "joined = joined.drop(joined[(joined.total_quantity < 0)].index)\n",
    "joined = joined.drop(joined[(joined.total_spending < 0)].index)"
   ]
  },
  {
   "cell_type": "code",
   "execution_count": 25,
   "id": "7c7ae973",
   "metadata": {},
   "outputs": [
    {
     "data": {
      "text/html": [
       "<div>\n",
       "<style scoped>\n",
       "    .dataframe tbody tr th:only-of-type {\n",
       "        vertical-align: middle;\n",
       "    }\n",
       "\n",
       "    .dataframe tbody tr th {\n",
       "        vertical-align: top;\n",
       "    }\n",
       "\n",
       "    .dataframe thead th {\n",
       "        text-align: right;\n",
       "    }\n",
       "</style>\n",
       "<table border=\"1\" class=\"dataframe\">\n",
       "  <thead>\n",
       "    <tr style=\"text-align: right;\">\n",
       "      <th></th>\n",
       "      <th>total_quantity</th>\n",
       "      <th>total_spending</th>\n",
       "      <th>total_cancelled_orders</th>\n",
       "      <th>total_orders_placed</th>\n",
       "      <th>country_of_origin</th>\n",
       "      <th>average_price_of_items</th>\n",
       "      <th>days_as_customer</th>\n",
       "    </tr>\n",
       "    <tr>\n",
       "      <th>CustomerID</th>\n",
       "      <th></th>\n",
       "      <th></th>\n",
       "      <th></th>\n",
       "      <th></th>\n",
       "      <th></th>\n",
       "      <th></th>\n",
       "      <th></th>\n",
       "    </tr>\n",
       "  </thead>\n",
       "  <tbody>\n",
       "    <tr>\n",
       "      <th>12346.0</th>\n",
       "      <td>0</td>\n",
       "      <td>0.00</td>\n",
       "      <td>1</td>\n",
       "      <td>2</td>\n",
       "      <td>United Kingdom</td>\n",
       "      <td>1.040000</td>\n",
       "      <td>326.0</td>\n",
       "    </tr>\n",
       "    <tr>\n",
       "      <th>12347.0</th>\n",
       "      <td>2458</td>\n",
       "      <td>4310.00</td>\n",
       "      <td>0</td>\n",
       "      <td>182</td>\n",
       "      <td>Iceland</td>\n",
       "      <td>2.644011</td>\n",
       "      <td>367.0</td>\n",
       "    </tr>\n",
       "    <tr>\n",
       "      <th>12348.0</th>\n",
       "      <td>2341</td>\n",
       "      <td>1797.24</td>\n",
       "      <td>0</td>\n",
       "      <td>31</td>\n",
       "      <td>Finland</td>\n",
       "      <td>5.764839</td>\n",
       "      <td>358.0</td>\n",
       "    </tr>\n",
       "    <tr>\n",
       "      <th>12349.0</th>\n",
       "      <td>631</td>\n",
       "      <td>1757.55</td>\n",
       "      <td>0</td>\n",
       "      <td>73</td>\n",
       "      <td>Italy</td>\n",
       "      <td>8.289041</td>\n",
       "      <td>19.0</td>\n",
       "    </tr>\n",
       "    <tr>\n",
       "      <th>12350.0</th>\n",
       "      <td>197</td>\n",
       "      <td>334.40</td>\n",
       "      <td>0</td>\n",
       "      <td>17</td>\n",
       "      <td>Norway</td>\n",
       "      <td>3.841176</td>\n",
       "      <td>310.0</td>\n",
       "    </tr>\n",
       "  </tbody>\n",
       "</table>\n",
       "</div>"
      ],
      "text/plain": [
       "            total_quantity  total_spending  total_cancelled_orders  \\\n",
       "CustomerID                                                           \n",
       "12346.0                  0            0.00                       1   \n",
       "12347.0               2458         4310.00                       0   \n",
       "12348.0               2341         1797.24                       0   \n",
       "12349.0                631         1757.55                       0   \n",
       "12350.0                197          334.40                       0   \n",
       "\n",
       "            total_orders_placed country_of_origin  average_price_of_items  \\\n",
       "CustomerID                                                                  \n",
       "12346.0                       2    United Kingdom                1.040000   \n",
       "12347.0                     182           Iceland                2.644011   \n",
       "12348.0                      31           Finland                5.764839   \n",
       "12349.0                      73             Italy                8.289041   \n",
       "12350.0                      17            Norway                3.841176   \n",
       "\n",
       "            days_as_customer  \n",
       "CustomerID                    \n",
       "12346.0                326.0  \n",
       "12347.0                367.0  \n",
       "12348.0                358.0  \n",
       "12349.0                 19.0  \n",
       "12350.0                310.0  "
      ]
     },
     "execution_count": 25,
     "metadata": {},
     "output_type": "execute_result"
    }
   ],
   "source": [
    "# look at first rows of data set\n",
    "joined.head()"
   ]
  },
  {
   "cell_type": "markdown",
   "id": "528d6a69",
   "metadata": {},
   "source": [
    "# Data Visualization"
   ]
  },
  {
   "cell_type": "code",
   "execution_count": 26,
   "id": "e9bb00ef",
   "metadata": {},
   "outputs": [
    {
     "data": {
      "text/plain": [
       "(4329, 7)"
      ]
     },
     "execution_count": 26,
     "metadata": {},
     "output_type": "execute_result"
    }
   ],
   "source": [
    "# look at the shape of the dataset joined. \n",
    "# this gives us the number of customers in the dataset because its rows represent a customer. \n",
    "joined.shape"
   ]
  },
  {
   "cell_type": "code",
   "execution_count": 27,
   "id": "99900255",
   "metadata": {},
   "outputs": [
    {
     "data": {
      "text/plain": [
       "<AxesSubplot:>"
      ]
     },
     "execution_count": 27,
     "metadata": {},
     "output_type": "execute_result"
    },
    {
     "data": {
      "image/png": "[encoded data removed]",
      "text/plain": [
       "<Figure size 432x288 with 1 Axes>"
      ]
     },
     "metadata": {
      "needs_background": "light"
     },
     "output_type": "display_data"
    }
   ],
   "source": [
    "# return the top 5 countries from which customers are from by \n",
    "# counting the frequency of each country of origin and plotting a horizontal bar graph \n",
    "joined['country_of_origin'].value_counts()[:5].plot(kind='barh')"
   ]
  },
  {
   "cell_type": "code",
   "execution_count": 28,
   "id": "af9e02ed",
   "metadata": {},
   "outputs": [
    {
     "data": {
      "text/plain": [
       "(22190,)"
      ]
     },
     "execution_count": 28,
     "metadata": {},
     "output_type": "execute_result"
    }
   ],
   "source": [
    "#check how many unique order numbers are in the original dataset \"data\" \n",
    "data['InvoiceNo'].unique().shape\n"
   ]
  },
  {
   "cell_type": "code",
   "execution_count": 29,
   "id": "0a135b34",
   "metadata": {},
   "outputs": [
    {
     "data": {
      "text/plain": [
       "(37,)"
      ]
     },
     "execution_count": 29,
     "metadata": {},
     "output_type": "execute_result"
    }
   ],
   "source": [
    "#check from how many countries orders are placed from \n",
    "\n",
    "# select country column unique values and return the shape of the table. \n",
    "joined['country_of_origin'].unique().shape"
   ]
  },
  {
   "cell_type": "code",
   "execution_count": 30,
   "id": "7aabdb1c",
   "metadata": {},
   "outputs": [
    {
     "data": {
      "text/plain": [
       "<AxesSubplot:>"
      ]
     },
     "execution_count": 30,
     "metadata": {},
     "output_type": "execute_result"
    },
    {
     "data": {
      "image/png": "[encoded data removed]",
      "text/plain": [
       "<Figure size 432x288 with 1 Axes>"
      ]
     },
     "metadata": {
      "needs_background": "light"
     },
     "output_type": "display_data"
    }
   ],
   "source": [
    "#code returns the first 5 coutries from which orders are placed from. \n",
    "data['Country'].value_counts()[:5].plot(kind='barh')"
   ]
  },
  {
   "cell_type": "code",
   "execution_count": 31,
   "id": "9263e1a0",
   "metadata": {},
   "outputs": [
    {
     "data": {
      "image/png": "[encoded data removed]",
      "text/plain": [
       "<Figure size 648x648 with 2 Axes>"
      ]
     },
     "metadata": {
      "needs_background": "light"
     },
     "output_type": "display_data"
    },
    {
     "name": "stdout",
     "output_type": "stream",
     "text": [
      "CPU times: total: 1.23 s\n",
      "Wall time: 1.25 s\n"
     ]
    }
   ],
   "source": [
    "%%time\n",
    "# make a copy of the dataset\n",
    "data_1 = data\n",
    "\n",
    "# split date variable in \"year\", \"month\", \"day\", \"hour\", \"minute\", \"week\" to make it easier to plot\n",
    "data_1['Date'] = data['InvoiceDate'].dt.date\n",
    "data_1['Day'] = data['InvoiceDate'].dt.day\n",
    "data_1['Month'] = data['InvoiceDate'].dt.month\n",
    "data_1['Year'] = data['InvoiceDate'].dt.year\n",
    "data_1['Hour'] = data['InvoiceDate'].dt.hour\n",
    "data_1['Week'] = data['InvoiceDate'].dt.week\n",
    "data_1['Minute'] = data['InvoiceDate'].dt.minute\n",
    "\n",
    "#set up graph \n",
    "fig, ax = plt.subplots(2,1, figsize=(9, 9))\n",
    "\n",
    "### create a dataframe \"sales\" which is grouped by date and shows the sum of all transaction spending in one month.\n",
    "\n",
    "## subset data_1 to include year, month and transaction spending. \n",
    "## group the subset by year and month and sum transaction spending. \n",
    "sales = data_1[['Year', 'Month', 'Tra_Spending']].groupby(['Year', 'Month']).sum().reset_index()\n",
    "\n",
    "#create a variable called 'Date' which contains year, month and day\n",
    "#set day to be one to stand for the start of the month. \n",
    "sales['Day'] = 1\n",
    "#convert 'Date' to pd datetime object\n",
    "sales['Date'] = pd.to_datetime(sales[['Year', 'Month', 'Day']])\n",
    "\n",
    "#set it as the index of the dataframe\n",
    "sales = sales.set_index('Date')\n",
    "#delete year, month and day columns\n",
    "sales = sales.drop(['Day', 'Month', 'Year'], axis=1)\n",
    "\n",
    "#create a plot of sales. \n",
    "ax[0].plot(sales)\n",
    "#set the title to 'Monthly revenue'\n",
    "ax[0].set_title('Monthly Revenue') \n",
    "### Create a dataframe \"top_country\"\n",
    "##  subset data_1 to contain transaction spending and country\n",
    "#   group by country and sum the transaction spending \n",
    "top_country = data_1[['Tra_Spending', 'Country']]\\\n",
    "                .groupby(['Country']).sum().reset_index().sort_values\\\n",
    "                (by='Tra_Spending', ascending=False)['Country'][1:5]\n",
    "\n",
    "#crate a loop that itarates for each country in the dataframe top_country\n",
    "for c in top_country:\n",
    "    sales = data_1[data_1['Country'] == c]\n",
    "    #subgroup sales and group by year and month. \n",
    "    sales = sales[['Year', 'Month', 'Tra_Spending']].groupby(['Year', 'Month']).sum().reset_index()\n",
    "    #set day to 1 \n",
    "    sales['Day'] = 1\n",
    "    #create date with day, month and year\n",
    "    sales['Date'] = pd.to_datetime(sales[['Day', 'Month', 'Year']])\n",
    "    #set index of sales to be 'Date'\n",
    "    sales = sales.set_index('Date')\n",
    "    #delete columns year, month, and day\n",
    "    sales = sales.drop(['Year', 'Month', 'Day'], axis=1)\n",
    "    #plot\n",
    "    ax[1].plot(sales.cumsum(), label=c)    \n",
    "    #this line adds a legend to the graph\n",
    "    ax[1].legend()\n",
    "    #this line sets the title of the graph\n",
    "    ax[1].set_title('Top countries by revenue')            \n",
    "    \n",
    "plt.show()\n"
   ]
  },
  {
   "cell_type": "markdown",
   "id": "af985b21",
   "metadata": {},
   "source": [
    "# Analysis"
   ]
  },
  {
   "cell_type": "code",
   "execution_count": 32,
   "id": "d9e19953",
   "metadata": {},
   "outputs": [
    {
     "data": {
      "image/png": "[encoded data removed]",
      "text/plain": [
       "<Figure size 1224x1080 with 42 Axes>"
      ]
     },
     "metadata": {
      "needs_background": "light"
     },
     "output_type": "display_data"
    }
   ],
   "source": [
    "#pairplot gives you a scattered plot of all pairs of variables. \n",
    "# hue = country of origin colors each observation differently depending \n",
    "  # on their country of origin \n",
    "sns.pairplot(joined, kind='scatter', hue= 'country_of_origin');"
   ]
  },
  {
   "cell_type": "code",
   "execution_count": 33,
   "id": "2a82ed88",
   "metadata": {},
   "outputs": [
    {
     "data": {
      "text/html": [
       "<div>\n",
       "<style scoped>\n",
       "    .dataframe tbody tr th:only-of-type {\n",
       "        vertical-align: middle;\n",
       "    }\n",
       "\n",
       "    .dataframe tbody tr th {\n",
       "        vertical-align: top;\n",
       "    }\n",
       "\n",
       "    .dataframe thead th {\n",
       "        text-align: right;\n",
       "    }\n",
       "</style>\n",
       "<table border=\"1\" class=\"dataframe\">\n",
       "  <thead>\n",
       "    <tr style=\"text-align: right;\">\n",
       "      <th></th>\n",
       "      <th>total_quantity</th>\n",
       "      <th>total_spending</th>\n",
       "      <th>total_cancelled_orders</th>\n",
       "      <th>total_orders_placed</th>\n",
       "      <th>average_price_of_items</th>\n",
       "      <th>days_as_customer</th>\n",
       "      <th>country_of_origin</th>\n",
       "    </tr>\n",
       "    <tr>\n",
       "      <th>CustomerID</th>\n",
       "      <th></th>\n",
       "      <th></th>\n",
       "      <th></th>\n",
       "      <th></th>\n",
       "      <th></th>\n",
       "      <th></th>\n",
       "      <th></th>\n",
       "    </tr>\n",
       "  </thead>\n",
       "  <tbody>\n",
       "    <tr>\n",
       "      <th>12346.0</th>\n",
       "      <td>-0.241563</td>\n",
       "      <td>-0.232608</td>\n",
       "      <td>-0.138582</td>\n",
       "      <td>-0.393792</td>\n",
       "      <td>-0.039814</td>\n",
       "      <td>0.852678</td>\n",
       "      <td>United Kingdom</td>\n",
       "    </tr>\n",
       "    <tr>\n",
       "      <th>12347.0</th>\n",
       "      <td>0.282089</td>\n",
       "      <td>0.289446</td>\n",
       "      <td>-0.274465</td>\n",
       "      <td>0.377315</td>\n",
       "      <td>-0.027125</td>\n",
       "      <td>1.199065</td>\n",
       "      <td>Iceland</td>\n",
       "    </tr>\n",
       "    <tr>\n",
       "      <th>12348.0</th>\n",
       "      <td>0.257164</td>\n",
       "      <td>-0.014915</td>\n",
       "      <td>-0.274465</td>\n",
       "      <td>-0.269558</td>\n",
       "      <td>-0.002436</td>\n",
       "      <td>1.123029</td>\n",
       "      <td>Finland</td>\n",
       "    </tr>\n",
       "    <tr>\n",
       "      <th>12349.0</th>\n",
       "      <td>-0.107135</td>\n",
       "      <td>-0.019722</td>\n",
       "      <td>-0.274465</td>\n",
       "      <td>-0.089633</td>\n",
       "      <td>0.017533</td>\n",
       "      <td>-1.740995</td>\n",
       "      <td>Italy</td>\n",
       "    </tr>\n",
       "    <tr>\n",
       "      <th>12350.0</th>\n",
       "      <td>-0.199594</td>\n",
       "      <td>-0.192103</td>\n",
       "      <td>-0.274465</td>\n",
       "      <td>-0.329533</td>\n",
       "      <td>-0.017654</td>\n",
       "      <td>0.717503</td>\n",
       "      <td>Norway</td>\n",
       "    </tr>\n",
       "  </tbody>\n",
       "</table>\n",
       "</div>"
      ],
      "text/plain": [
       "            total_quantity  total_spending  total_cancelled_orders  \\\n",
       "CustomerID                                                           \n",
       "12346.0          -0.241563       -0.232608               -0.138582   \n",
       "12347.0           0.282089        0.289446               -0.274465   \n",
       "12348.0           0.257164       -0.014915               -0.274465   \n",
       "12349.0          -0.107135       -0.019722               -0.274465   \n",
       "12350.0          -0.199594       -0.192103               -0.274465   \n",
       "\n",
       "            total_orders_placed  average_price_of_items  days_as_customer  \\\n",
       "CustomerID                                                                  \n",
       "12346.0               -0.393792               -0.039814          0.852678   \n",
       "12347.0                0.377315               -0.027125          1.199065   \n",
       "12348.0               -0.269558               -0.002436          1.123029   \n",
       "12349.0               -0.089633                0.017533         -1.740995   \n",
       "12350.0               -0.329533               -0.017654          0.717503   \n",
       "\n",
       "           country_of_origin  \n",
       "CustomerID                    \n",
       "12346.0       United Kingdom  \n",
       "12347.0              Iceland  \n",
       "12348.0              Finland  \n",
       "12349.0                Italy  \n",
       "12350.0               Norway  "
      ]
     },
     "execution_count": 33,
     "metadata": {},
     "output_type": "execute_result"
    }
   ],
   "source": [
    "# scale dataset\n",
    "\n",
    "#select numerical variables to scale\n",
    "num_cols= ['total_quantity', 'total_spending',\\\n",
    "           'total_cancelled_orders', 'total_orders_placed',\\\n",
    "           'average_price_of_items', 'days_as_customer']\n",
    "\n",
    "#subset dataset to contain only numerical variables\n",
    "joined_toscale = joined[num_cols]\n",
    "\n",
    "#scale dataset\n",
    "joined_scaled = pd.DataFrame(preprocessing.scale(joined_toscale),\n",
    "                           index=joined_toscale.index,\n",
    "                           columns=joined_toscale.columns)\n",
    "\n",
    "#add country of origin variable for coloring of pairplot\n",
    "joined_scaled[\"country_of_origin\"]= joined[\"country_of_origin\"]\n",
    "joined_scaled.head()"
   ]
  },
  {
   "cell_type": "code",
   "execution_count": 34,
   "id": "f73509df",
   "metadata": {},
   "outputs": [
    {
     "data": {
      "image/png": "[encoded data removed]",
      "text/plain": [
       "<Figure size 1224x1080 with 42 Axes>"
      ]
     },
     "metadata": {
      "needs_background": "light"
     },
     "output_type": "display_data"
    }
   ],
   "source": [
    "# new pairplot\n",
    "sns.pairplot(joined_scaled, kind='scatter', hue= 'country_of_origin');"
   ]
  },
  {
   "cell_type": "markdown",
   "id": "9b21f507",
   "metadata": {},
   "source": [
    "# K-means Clustering Analysis"
   ]
  },
  {
   "cell_type": "code",
   "execution_count": 35,
   "id": "92f8c250",
   "metadata": {},
   "outputs": [
    {
     "data": {
      "text/html": [
       "<div>\n",
       "<style scoped>\n",
       "    .dataframe tbody tr th:only-of-type {\n",
       "        vertical-align: middle;\n",
       "    }\n",
       "\n",
       "    .dataframe tbody tr th {\n",
       "        vertical-align: top;\n",
       "    }\n",
       "\n",
       "    .dataframe thead th {\n",
       "        text-align: right;\n",
       "    }\n",
       "</style>\n",
       "<table border=\"1\" class=\"dataframe\">\n",
       "  <thead>\n",
       "    <tr style=\"text-align: right;\">\n",
       "      <th></th>\n",
       "      <th>total_quantity</th>\n",
       "      <th>total_spending</th>\n",
       "      <th>total_cancelled_orders</th>\n",
       "      <th>total_orders_placed</th>\n",
       "      <th>average_price_of_items</th>\n",
       "      <th>days_as_customer</th>\n",
       "    </tr>\n",
       "    <tr>\n",
       "      <th>CustomerID</th>\n",
       "      <th></th>\n",
       "      <th></th>\n",
       "      <th></th>\n",
       "      <th></th>\n",
       "      <th></th>\n",
       "      <th></th>\n",
       "    </tr>\n",
       "  </thead>\n",
       "  <tbody>\n",
       "    <tr>\n",
       "      <th>12346.0</th>\n",
       "      <td>-0.241563</td>\n",
       "      <td>-0.232608</td>\n",
       "      <td>-0.138582</td>\n",
       "      <td>-0.393792</td>\n",
       "      <td>-0.039814</td>\n",
       "      <td>0.852678</td>\n",
       "    </tr>\n",
       "    <tr>\n",
       "      <th>12347.0</th>\n",
       "      <td>0.282089</td>\n",
       "      <td>0.289446</td>\n",
       "      <td>-0.274465</td>\n",
       "      <td>0.377315</td>\n",
       "      <td>-0.027125</td>\n",
       "      <td>1.199065</td>\n",
       "    </tr>\n",
       "    <tr>\n",
       "      <th>12348.0</th>\n",
       "      <td>0.257164</td>\n",
       "      <td>-0.014915</td>\n",
       "      <td>-0.274465</td>\n",
       "      <td>-0.269558</td>\n",
       "      <td>-0.002436</td>\n",
       "      <td>1.123029</td>\n",
       "    </tr>\n",
       "  </tbody>\n",
       "</table>\n",
       "</div>"
      ],
      "text/plain": [
       "            total_quantity  total_spending  total_cancelled_orders  \\\n",
       "CustomerID                                                           \n",
       "12346.0          -0.241563       -0.232608               -0.138582   \n",
       "12347.0           0.282089        0.289446               -0.274465   \n",
       "12348.0           0.257164       -0.014915               -0.274465   \n",
       "\n",
       "            total_orders_placed  average_price_of_items  days_as_customer  \n",
       "CustomerID                                                                 \n",
       "12346.0               -0.393792               -0.039814          0.852678  \n",
       "12347.0                0.377315               -0.027125          1.199065  \n",
       "12348.0               -0.269558               -0.002436          1.123029  "
      ]
     },
     "execution_count": 35,
     "metadata": {},
     "output_type": "execute_result"
    }
   ],
   "source": [
    "# create cluster data with that contains numeric value\n",
    "cluster_data_scaled = joined_scaled.loc[:, joined_scaled.columns != 'country_of_origin']\n",
    "cluster_data_scaled.head(3)\n"
   ]
  },
  {
   "cell_type": "code",
   "execution_count": 36,
   "id": "c535b58d",
   "metadata": {},
   "outputs": [
    {
     "data": {
      "text/html": [
       "<div>\n",
       "<style scoped>\n",
       "    .dataframe tbody tr th:only-of-type {\n",
       "        vertical-align: middle;\n",
       "    }\n",
       "\n",
       "    .dataframe tbody tr th {\n",
       "        vertical-align: top;\n",
       "    }\n",
       "\n",
       "    .dataframe thead th {\n",
       "        text-align: right;\n",
       "    }\n",
       "</style>\n",
       "<table border=\"1\" class=\"dataframe\">\n",
       "  <thead>\n",
       "    <tr style=\"text-align: right;\">\n",
       "      <th></th>\n",
       "      <th>total_quantity</th>\n",
       "      <th>total_spending</th>\n",
       "      <th>total_cancelled_orders</th>\n",
       "      <th>total_orders_placed</th>\n",
       "      <th>average_price_of_items</th>\n",
       "      <th>days_as_customer</th>\n",
       "    </tr>\n",
       "  </thead>\n",
       "  <tbody>\n",
       "    <tr>\n",
       "      <th>mean</th>\n",
       "      <td>1.679825e-18</td>\n",
       "      <td>-2.704790e-17</td>\n",
       "      <td>-1.004663e-15</td>\n",
       "      <td>2.862755e-17</td>\n",
       "      <td>1.695693e-17</td>\n",
       "      <td>4.252777e-17</td>\n",
       "    </tr>\n",
       "    <tr>\n",
       "      <th>std</th>\n",
       "      <td>1.000116e+00</td>\n",
       "      <td>1.000116e+00</td>\n",
       "      <td>1.000116e+00</td>\n",
       "      <td>1.000116e+00</td>\n",
       "      <td>1.000116e+00</td>\n",
       "      <td>1.000116e+00</td>\n",
       "    </tr>\n",
       "  </tbody>\n",
       "</table>\n",
       "</div>"
      ],
      "text/plain": [
       "      total_quantity  total_spending  total_cancelled_orders  \\\n",
       "mean    1.679825e-18   -2.704790e-17           -1.004663e-15   \n",
       "std     1.000116e+00    1.000116e+00            1.000116e+00   \n",
       "\n",
       "      total_orders_placed  average_price_of_items  days_as_customer  \n",
       "mean         2.862755e-17            1.695693e-17      4.252777e-17  \n",
       "std          1.000116e+00            1.000116e+00      1.000116e+00  "
      ]
     },
     "execution_count": 36,
     "metadata": {},
     "output_type": "execute_result"
    }
   ],
   "source": [
    "# check the mean and standard deviation of all variables. \n",
    "cluster_data_scaled.describe().loc[['mean', 'std'], :]\n",
    "\n",
    "#now all variables have the same standard deviation. "
   ]
  },
  {
   "cell_type": "markdown",
   "id": "e50292df",
   "metadata": {},
   "source": [
    "# Determine the Value of K - The Elbow Method"
   ]
  },
  {
   "cell_type": "code",
   "execution_count": 37,
   "id": "fd4bb108",
   "metadata": {},
   "outputs": [
    {
     "data": {
      "text/plain": [
       "Text(0.5, 1.0, 'Elbow curve')"
      ]
     },
     "execution_count": 37,
     "metadata": {},
     "output_type": "execute_result"
    },
    {
     "data": {
      "image/png": "[encoded data removed]",
      "text/plain": [
       "<Figure size 504x360 with 1 Axes>"
      ]
     },
     "metadata": {
      "needs_background": "light"
     },
     "output_type": "display_data"
    }
   ],
   "source": [
    "# ELBOW METHOD # \n",
    "\n",
    "# Data to run in the loop \n",
    "X = cluster_data_scaled\n",
    "# create empty list to store SSEs for different k means clustering\n",
    "SSE = []\n",
    "\n",
    "# for loop runs on range between 2 and 10\n",
    "for k in range(2, 10):\n",
    "    # set up k means for each k between 2 and 10 \n",
    "    kmeans = cluster.KMeans(n_clusters=k)\n",
    "    # fit k means in data\n",
    "    kmeans.fit(X)\n",
    "    # append SSE values into empty list \n",
    "    SSE.append(kmeans.inertia_)\n",
    "\n",
    "# set up elbow graph \n",
    "fig = plt.figure(figsize=(7, 5))\n",
    "# plot values\n",
    "plt.plot(range(2, 10), SSE)\n",
    "# add grid\n",
    "plt.grid(True)\n",
    "# add title\n",
    "plt.title('Elbow curve')\n"
   ]
  },
  {
   "cell_type": "code",
   "execution_count": 38,
   "id": "23e77fc4",
   "metadata": {},
   "outputs": [
    {
     "data": {
      "text/plain": [
       "KMeans(n_clusters=6)"
      ]
     },
     "execution_count": 38,
     "metadata": {},
     "output_type": "execute_result"
    }
   ],
   "source": [
    "###Perform K-means clustering\n",
    "# set up clustering analysis with k=6\n",
    "k6 = cluster.KMeans(n_clusters=6)\n",
    "k6"
   ]
  },
  {
   "cell_type": "code",
   "execution_count": 39,
   "id": "7e2a3add",
   "metadata": {},
   "outputs": [],
   "source": [
    "# fit clustering model on dataset created for clustering\n",
    "np.random.seed(1234)\n",
    "k6cl = k6.fit(cluster_data_scaled)"
   ]
  },
  {
   "cell_type": "code",
   "execution_count": 40,
   "id": "5a98564e",
   "metadata": {},
   "outputs": [
    {
     "data": {
      "text/plain": [
       "array([0, 0, 0, ..., 2, 0, 0])"
      ]
     },
     "execution_count": 40,
     "metadata": {},
     "output_type": "execute_result"
    }
   ],
   "source": [
    "#check labels\n",
    "labels=k6cl.labels_\n",
    "\n",
    "labels"
   ]
  },
  {
   "cell_type": "code",
   "execution_count": 41,
   "id": "a66457a2",
   "metadata": {},
   "outputs": [
    {
     "data": {
      "text/html": [
       "<div>\n",
       "<style scoped>\n",
       "    .dataframe tbody tr th:only-of-type {\n",
       "        vertical-align: middle;\n",
       "    }\n",
       "\n",
       "    .dataframe tbody tr th {\n",
       "        vertical-align: top;\n",
       "    }\n",
       "\n",
       "    .dataframe thead th {\n",
       "        text-align: right;\n",
       "    }\n",
       "</style>\n",
       "<table border=\"1\" class=\"dataframe\">\n",
       "  <thead>\n",
       "    <tr style=\"text-align: right;\">\n",
       "      <th></th>\n",
       "      <th>No Customers per Cluster</th>\n",
       "    </tr>\n",
       "  </thead>\n",
       "  <tbody>\n",
       "    <tr>\n",
       "      <th>0</th>\n",
       "      <td>2542</td>\n",
       "    </tr>\n",
       "    <tr>\n",
       "      <th>1</th>\n",
       "      <td>5</td>\n",
       "    </tr>\n",
       "    <tr>\n",
       "      <th>2</th>\n",
       "      <td>1638</td>\n",
       "    </tr>\n",
       "    <tr>\n",
       "      <th>3</th>\n",
       "      <td>1</td>\n",
       "    </tr>\n",
       "    <tr>\n",
       "      <th>4</th>\n",
       "      <td>136</td>\n",
       "    </tr>\n",
       "    <tr>\n",
       "      <th>5</th>\n",
       "      <td>7</td>\n",
       "    </tr>\n",
       "  </tbody>\n",
       "</table>\n",
       "</div>"
      ],
      "text/plain": [
       "   No Customers per Cluster\n",
       "0                      2542\n",
       "1                         5\n",
       "2                      1638\n",
       "3                         1\n",
       "4                       136\n",
       "5                         7"
      ]
     },
     "execution_count": 41,
     "metadata": {},
     "output_type": "execute_result"
    }
   ],
   "source": [
    "# count how many observations each cluster has. \n",
    "labels_tb = pd.DataFrame(joined.groupby(k6cl.labels_).size())\n",
    "\n",
    "#rename column\n",
    "labels_tb.rename(columns={0:'No Customers per Cluster'}, inplace=True)\n",
    "\n",
    "labels_tb"
   ]
  },
  {
   "cell_type": "code",
   "execution_count": 42,
   "id": "a627469a",
   "metadata": {},
   "outputs": [],
   "source": [
    "#create table with mean values per cluster\n",
    "table_of_means=joined.groupby(k6cl.labels_).mean()\n",
    "#add average spend per order by dividind average total spending by average n of orders placed\n",
    "table_of_means['average_spend_order']=\\\n",
    "                    table_of_means['total_spending']/table_of_means['total_orders_placed']"
   ]
  },
  {
   "cell_type": "code",
   "execution_count": 43,
   "id": "7c34872e",
   "metadata": {},
   "outputs": [
    {
     "data": {
      "text/html": [
       "<div>\n",
       "<style scoped>\n",
       "    .dataframe tbody tr th:only-of-type {\n",
       "        vertical-align: middle;\n",
       "    }\n",
       "\n",
       "    .dataframe tbody tr th {\n",
       "        vertical-align: top;\n",
       "    }\n",
       "\n",
       "    .dataframe thead th {\n",
       "        text-align: right;\n",
       "    }\n",
       "</style>\n",
       "<table border=\"1\" class=\"dataframe\">\n",
       "  <thead>\n",
       "    <tr style=\"text-align: right;\">\n",
       "      <th></th>\n",
       "      <th>0</th>\n",
       "      <th>1</th>\n",
       "      <th>2</th>\n",
       "      <th>3</th>\n",
       "      <th>4</th>\n",
       "      <th>5</th>\n",
       "    </tr>\n",
       "  </thead>\n",
       "  <tbody>\n",
       "    <tr>\n",
       "      <th>total_quantity</th>\n",
       "      <td>933.175846</td>\n",
       "      <td>92827.4000</td>\n",
       "      <td>427.657509</td>\n",
       "      <td>60.00</td>\n",
       "      <td>8268.088235</td>\n",
       "      <td>35328.571429</td>\n",
       "    </tr>\n",
       "    <tr>\n",
       "      <th>total_spending</th>\n",
       "      <td>1579.628329</td>\n",
       "      <td>192103.8540</td>\n",
       "      <td>661.412724</td>\n",
       "      <td>649.50</td>\n",
       "      <td>13492.293750</td>\n",
       "      <td>59766.425714</td>\n",
       "    </tr>\n",
       "    <tr>\n",
       "      <th>total_cancelled_orders</th>\n",
       "      <td>1.542486</td>\n",
       "      <td>20.6000</td>\n",
       "      <td>0.553114</td>\n",
       "      <td>2.00</td>\n",
       "      <td>22.647059</td>\n",
       "      <td>104.571429</td>\n",
       "    </tr>\n",
       "    <tr>\n",
       "      <th>total_orders_placed</th>\n",
       "      <td>92.622738</td>\n",
       "      <td>1013.4000</td>\n",
       "      <td>44.904762</td>\n",
       "      <td>5.00</td>\n",
       "      <td>459.669118</td>\n",
       "      <td>4286.428571</td>\n",
       "    </tr>\n",
       "    <tr>\n",
       "      <th>average_price_of_items</th>\n",
       "      <td>3.954265</td>\n",
       "      <td>6.3574</td>\n",
       "      <td>4.623050</td>\n",
       "      <td>8055.78</td>\n",
       "      <td>4.044998</td>\n",
       "      <td>3.841534</td>\n",
       "    </tr>\n",
       "    <tr>\n",
       "      <th>days_as_customer</th>\n",
       "      <td>304.750197</td>\n",
       "      <td>360.0000</td>\n",
       "      <td>90.848596</td>\n",
       "      <td>182.00</td>\n",
       "      <td>342.132353</td>\n",
       "      <td>334.714286</td>\n",
       "    </tr>\n",
       "    <tr>\n",
       "      <th>average_spend_order</th>\n",
       "      <td>17.054434</td>\n",
       "      <td>189.5637</td>\n",
       "      <td>14.729234</td>\n",
       "      <td>129.90</td>\n",
       "      <td>29.352187</td>\n",
       "      <td>13.943175</td>\n",
       "    </tr>\n",
       "  </tbody>\n",
       "</table>\n",
       "</div>"
      ],
      "text/plain": [
       "                                  0            1           2        3  \\\n",
       "total_quantity           933.175846   92827.4000  427.657509    60.00   \n",
       "total_spending          1579.628329  192103.8540  661.412724   649.50   \n",
       "total_cancelled_orders     1.542486      20.6000    0.553114     2.00   \n",
       "total_orders_placed       92.622738    1013.4000   44.904762     5.00   \n",
       "average_price_of_items     3.954265       6.3574    4.623050  8055.78   \n",
       "days_as_customer         304.750197     360.0000   90.848596   182.00   \n",
       "average_spend_order       17.054434     189.5637   14.729234   129.90   \n",
       "\n",
       "                                   4             5  \n",
       "total_quantity           8268.088235  35328.571429  \n",
       "total_spending          13492.293750  59766.425714  \n",
       "total_cancelled_orders     22.647059    104.571429  \n",
       "total_orders_placed       459.669118   4286.428571  \n",
       "average_price_of_items      4.044998      3.841534  \n",
       "days_as_customer          342.132353    334.714286  \n",
       "average_spend_order        29.352187     13.943175  "
      ]
     },
     "execution_count": 43,
     "metadata": {},
     "output_type": "execute_result"
    }
   ],
   "source": [
    "# look at mean of the clusters \n",
    "\n",
    "# .T transpose the table to make it easier to look at\n",
    "table_of_means.T"
   ]
  },
  {
   "cell_type": "code",
   "execution_count": 44,
   "id": "e51afc00",
   "metadata": {},
   "outputs": [
    {
     "data": {
      "text/html": [
       "<div>\n",
       "<style scoped>\n",
       "    .dataframe tbody tr th:only-of-type {\n",
       "        vertical-align: middle;\n",
       "    }\n",
       "\n",
       "    .dataframe tbody tr th {\n",
       "        vertical-align: top;\n",
       "    }\n",
       "\n",
       "    .dataframe thead th {\n",
       "        text-align: right;\n",
       "    }\n",
       "</style>\n",
       "<table border=\"1\" class=\"dataframe\">\n",
       "  <thead>\n",
       "    <tr style=\"text-align: right;\">\n",
       "      <th></th>\n",
       "      <th>total_quantity</th>\n",
       "      <th>total_spending</th>\n",
       "      <th>total_cancelled_orders</th>\n",
       "      <th>total_orders_placed</th>\n",
       "      <th>country_of_origin</th>\n",
       "      <th>average_price_of_items</th>\n",
       "      <th>days_as_customer</th>\n",
       "    </tr>\n",
       "    <tr>\n",
       "      <th>CustomerID</th>\n",
       "      <th></th>\n",
       "      <th></th>\n",
       "      <th></th>\n",
       "      <th></th>\n",
       "      <th></th>\n",
       "      <th></th>\n",
       "      <th></th>\n",
       "    </tr>\n",
       "  </thead>\n",
       "  <tbody>\n",
       "    <tr>\n",
       "      <th>12346.0</th>\n",
       "      <td>0</td>\n",
       "      <td>0.00</td>\n",
       "      <td>1</td>\n",
       "      <td>2</td>\n",
       "      <td>United Kingdom</td>\n",
       "      <td>1.040000</td>\n",
       "      <td>326.0</td>\n",
       "    </tr>\n",
       "    <tr>\n",
       "      <th>12347.0</th>\n",
       "      <td>2458</td>\n",
       "      <td>4310.00</td>\n",
       "      <td>0</td>\n",
       "      <td>182</td>\n",
       "      <td>Iceland</td>\n",
       "      <td>2.644011</td>\n",
       "      <td>367.0</td>\n",
       "    </tr>\n",
       "    <tr>\n",
       "      <th>12348.0</th>\n",
       "      <td>2341</td>\n",
       "      <td>1797.24</td>\n",
       "      <td>0</td>\n",
       "      <td>31</td>\n",
       "      <td>Finland</td>\n",
       "      <td>5.764839</td>\n",
       "      <td>358.0</td>\n",
       "    </tr>\n",
       "    <tr>\n",
       "      <th>12349.0</th>\n",
       "      <td>631</td>\n",
       "      <td>1757.55</td>\n",
       "      <td>0</td>\n",
       "      <td>73</td>\n",
       "      <td>Italy</td>\n",
       "      <td>8.289041</td>\n",
       "      <td>19.0</td>\n",
       "    </tr>\n",
       "    <tr>\n",
       "      <th>12350.0</th>\n",
       "      <td>197</td>\n",
       "      <td>334.40</td>\n",
       "      <td>0</td>\n",
       "      <td>17</td>\n",
       "      <td>Norway</td>\n",
       "      <td>3.841176</td>\n",
       "      <td>310.0</td>\n",
       "    </tr>\n",
       "  </tbody>\n",
       "</table>\n",
       "</div>"
      ],
      "text/plain": [
       "            total_quantity  total_spending  total_cancelled_orders  \\\n",
       "CustomerID                                                           \n",
       "12346.0                  0            0.00                       1   \n",
       "12347.0               2458         4310.00                       0   \n",
       "12348.0               2341         1797.24                       0   \n",
       "12349.0                631         1757.55                       0   \n",
       "12350.0                197          334.40                       0   \n",
       "\n",
       "            total_orders_placed country_of_origin  average_price_of_items  \\\n",
       "CustomerID                                                                  \n",
       "12346.0                       2    United Kingdom                1.040000   \n",
       "12347.0                     182           Iceland                2.644011   \n",
       "12348.0                      31           Finland                5.764839   \n",
       "12349.0                      73             Italy                8.289041   \n",
       "12350.0                      17            Norway                3.841176   \n",
       "\n",
       "            days_as_customer  \n",
       "CustomerID                    \n",
       "12346.0                326.0  \n",
       "12347.0                367.0  \n",
       "12348.0                358.0  \n",
       "12349.0                 19.0  \n",
       "12350.0                310.0  "
      ]
     },
     "execution_count": 44,
     "metadata": {},
     "output_type": "execute_result"
    }
   ],
   "source": [
    "# recall data for regression \n",
    "joined.head()"
   ]
  },
  {
   "cell_type": "code",
   "execution_count": 45,
   "id": "c373b777",
   "metadata": {},
   "outputs": [
    {
     "data": {
      "text/html": [
       "<table class=\"simpletable\">\n",
       "<caption>OLS Regression Results</caption>\n",
       "<tr>\n",
       "  <th>Dep. Variable:</th>    <td>total_orders_placed</td> <th>  R-squared:         </th> <td>   0.432</td> \n",
       "</tr>\n",
       "<tr>\n",
       "  <th>Model:</th>                    <td>OLS</td>         <th>  Adj. R-squared:    </th> <td>   0.432</td> \n",
       "</tr>\n",
       "<tr>\n",
       "  <th>Method:</th>              <td>Least Squares</td>    <th>  F-statistic:       </th> <td>   1096.</td> \n",
       "</tr>\n",
       "<tr>\n",
       "  <th>Date:</th>              <td>Sat, 08 Oct 2022</td>   <th>  Prob (F-statistic):</th>  <td>  0.00</td>  \n",
       "</tr>\n",
       "<tr>\n",
       "  <th>Time:</th>                  <td>11:49:10</td>       <th>  Log-Likelihood:    </th> <td> -28524.</td> \n",
       "</tr>\n",
       "<tr>\n",
       "  <th>No. Observations:</th>       <td>  4329</td>        <th>  AIC:               </th> <td>5.706e+04</td>\n",
       "</tr>\n",
       "<tr>\n",
       "  <th>Df Residuals:</th>           <td>  4325</td>        <th>  BIC:               </th> <td>5.708e+04</td>\n",
       "</tr>\n",
       "<tr>\n",
       "  <th>Df Model:</th>               <td>     3</td>        <th>                     </th>     <td> </td>    \n",
       "</tr>\n",
       "<tr>\n",
       "  <th>Covariance Type:</th>       <td>nonrobust</td>      <th>                     </th>     <td> </td>    \n",
       "</tr>\n",
       "</table>\n",
       "<table class=\"simpletable\">\n",
       "<tr>\n",
       "             <td></td>               <th>coef</th>     <th>std err</th>      <th>t</th>      <th>P>|t|</th>  <th>[0.025</th>    <th>0.975]</th>  \n",
       "</tr>\n",
       "<tr>\n",
       "  <th>Intercept</th>              <td>   46.7414</td> <td>    2.804</td> <td>   16.671</td> <td> 0.000</td> <td>   41.244</td> <td>   52.238</td>\n",
       "</tr>\n",
       "<tr>\n",
       "  <th>total_cancelled_orders</th> <td>   16.1792</td> <td>    0.396</td> <td>   40.848</td> <td> 0.000</td> <td>   15.403</td> <td>   16.956</td>\n",
       "</tr>\n",
       "<tr>\n",
       "  <th>average_price_of_items</th> <td>   -0.0142</td> <td>    0.021</td> <td>   -0.669</td> <td> 0.504</td> <td>   -0.056</td> <td>    0.027</td>\n",
       "</tr>\n",
       "<tr>\n",
       "  <th>total_quantity</th>         <td>    0.0129</td> <td>    0.001</td> <td>   20.717</td> <td> 0.000</td> <td>    0.012</td> <td>    0.014</td>\n",
       "</tr>\n",
       "</table>\n",
       "<table class=\"simpletable\">\n",
       "<tr>\n",
       "  <th>Omnibus:</th>       <td>7907.015</td> <th>  Durbin-Watson:     </th>   <td>   1.983</td>  \n",
       "</tr>\n",
       "<tr>\n",
       "  <th>Prob(Omnibus):</th>  <td> 0.000</td>  <th>  Jarque-Bera (JB):  </th> <td>24253997.001</td>\n",
       "</tr>\n",
       "<tr>\n",
       "  <th>Skew:</th>           <td>12.988</td>  <th>  Prob(JB):          </th>   <td>    0.00</td>  \n",
       "</tr>\n",
       "<tr>\n",
       "  <th>Kurtosis:</th>       <td>368.773</td> <th>  Cond. No.          </th>   <td>5.06e+03</td>  \n",
       "</tr>\n",
       "</table><br/><br/>Notes:<br/>[1] Standard Errors assume that the covariance matrix of the errors is correctly specified.<br/>[2] The condition number is large, 5.06e+03. This might indicate that there are<br/>strong multicollinearity or other numerical problems."
      ],
      "text/plain": [
       "<class 'statsmodels.iolib.summary.Summary'>\n",
       "\"\"\"\n",
       "                             OLS Regression Results                            \n",
       "===============================================================================\n",
       "Dep. Variable:     total_orders_placed   R-squared:                       0.432\n",
       "Model:                             OLS   Adj. R-squared:                  0.432\n",
       "Method:                  Least Squares   F-statistic:                     1096.\n",
       "Date:                 Sat, 08 Oct 2022   Prob (F-statistic):               0.00\n",
       "Time:                         11:49:10   Log-Likelihood:                -28524.\n",
       "No. Observations:                 4329   AIC:                         5.706e+04\n",
       "Df Residuals:                     4325   BIC:                         5.708e+04\n",
       "Df Model:                            3                                         \n",
       "Covariance Type:             nonrobust                                         \n",
       "==========================================================================================\n",
       "                             coef    std err          t      P>|t|      [0.025      0.975]\n",
       "------------------------------------------------------------------------------------------\n",
       "Intercept                 46.7414      2.804     16.671      0.000      41.244      52.238\n",
       "total_cancelled_orders    16.1792      0.396     40.848      0.000      15.403      16.956\n",
       "average_price_of_items    -0.0142      0.021     -0.669      0.504      -0.056       0.027\n",
       "total_quantity             0.0129      0.001     20.717      0.000       0.012       0.014\n",
       "==============================================================================\n",
       "Omnibus:                     7907.015   Durbin-Watson:                   1.983\n",
       "Prob(Omnibus):                  0.000   Jarque-Bera (JB):         24253997.001\n",
       "Skew:                          12.988   Prob(JB):                         0.00\n",
       "Kurtosis:                     368.773   Cond. No.                     5.06e+03\n",
       "==============================================================================\n",
       "\n",
       "Notes:\n",
       "[1] Standard Errors assume that the covariance matrix of the errors is correctly specified.\n",
       "[2] The condition number is large, 5.06e+03. This might indicate that there are\n",
       "strong multicollinearity or other numerical problems.\n",
       "\"\"\""
      ]
     },
     "execution_count": 45,
     "metadata": {},
     "output_type": "execute_result"
    }
   ],
   "source": [
    "#regression model \n",
    "m1_baseline = sm.ols('total_orders_placed ~ total_cancelled_orders\\\n",
    "            + average_price_of_items + total_quantity',\\\n",
    "            joined).fit()\n",
    "\n",
    "m1_baseline.summary()"
   ]
  },
  {
   "cell_type": "markdown",
   "id": "ae3d2775",
   "metadata": {},
   "source": [
    "# Model Explaination\n",
    " ###Scaled Baseline Model"
   ]
  },
  {
   "cell_type": "code",
   "execution_count": 46,
   "id": "c205b553",
   "metadata": {},
   "outputs": [
    {
     "data": {
      "text/html": [
       "<table class=\"simpletable\">\n",
       "<caption>OLS Regression Results</caption>\n",
       "<tr>\n",
       "  <th>Dep. Variable:</th>    <td>total_orders_placed</td> <th>  R-squared:         </th> <td>   0.432</td> \n",
       "</tr>\n",
       "<tr>\n",
       "  <th>Model:</th>                    <td>OLS</td>         <th>  Adj. R-squared:    </th> <td>   0.432</td> \n",
       "</tr>\n",
       "<tr>\n",
       "  <th>Method:</th>              <td>Least Squares</td>    <th>  F-statistic:       </th> <td>   1096.</td> \n",
       "</tr>\n",
       "<tr>\n",
       "  <th>Date:</th>              <td>Sat, 08 Oct 2022</td>   <th>  Prob (F-statistic):</th>  <td>  0.00</td>  \n",
       "</tr>\n",
       "<tr>\n",
       "  <th>Time:</th>                  <td>11:49:10</td>       <th>  Log-Likelihood:    </th> <td> -28524.</td> \n",
       "</tr>\n",
       "<tr>\n",
       "  <th>No. Observations:</th>       <td>  4329</td>        <th>  AIC:               </th> <td>5.706e+04</td>\n",
       "</tr>\n",
       "<tr>\n",
       "  <th>Df Residuals:</th>           <td>  4325</td>        <th>  BIC:               </th> <td>5.708e+04</td>\n",
       "</tr>\n",
       "<tr>\n",
       "  <th>Df Model:</th>               <td>     3</td>        <th>                     </th>     <td> </td>    \n",
       "</tr>\n",
       "<tr>\n",
       "  <th>Covariance Type:</th>       <td>nonrobust</td>      <th>                     </th>     <td> </td>    \n",
       "</tr>\n",
       "</table>\n",
       "<table class=\"simpletable\">\n",
       "<tr>\n",
       "             <td></td>               <th>coef</th>     <th>std err</th>      <th>t</th>      <th>P>|t|</th>  <th>[0.025</th>    <th>0.975]</th>  \n",
       "</tr>\n",
       "<tr>\n",
       "  <th>Intercept</th>              <td>   93.9231</td> <td>    2.675</td> <td>   35.110</td> <td> 0.000</td> <td>   88.679</td> <td>   99.168</td>\n",
       "</tr>\n",
       "<tr>\n",
       "  <th>total_cancelled_orders</th> <td>  119.0675</td> <td>    2.915</td> <td>   40.848</td> <td> 0.000</td> <td>  113.353</td> <td>  124.782</td>\n",
       "</tr>\n",
       "<tr>\n",
       "  <th>average_price_of_items</th> <td>   -1.7889</td> <td>    2.675</td> <td>   -0.669</td> <td> 0.504</td> <td>   -7.034</td> <td>    3.456</td>\n",
       "</tr>\n",
       "<tr>\n",
       "  <th>total_quantity</th>         <td>   60.3891</td> <td>    2.915</td> <td>   20.717</td> <td> 0.000</td> <td>   54.674</td> <td>   66.104</td>\n",
       "</tr>\n",
       "</table>\n",
       "<table class=\"simpletable\">\n",
       "<tr>\n",
       "  <th>Omnibus:</th>       <td>7907.015</td> <th>  Durbin-Watson:     </th>   <td>   1.983</td>  \n",
       "</tr>\n",
       "<tr>\n",
       "  <th>Prob(Omnibus):</th>  <td> 0.000</td>  <th>  Jarque-Bera (JB):  </th> <td>24253997.001</td>\n",
       "</tr>\n",
       "<tr>\n",
       "  <th>Skew:</th>           <td>12.988</td>  <th>  Prob(JB):          </th>   <td>    0.00</td>  \n",
       "</tr>\n",
       "<tr>\n",
       "  <th>Kurtosis:</th>       <td>368.773</td> <th>  Cond. No.          </th>   <td>    1.52</td>  \n",
       "</tr>\n",
       "</table><br/><br/>Notes:<br/>[1] Standard Errors assume that the covariance matrix of the errors is correctly specified."
      ],
      "text/plain": [
       "<class 'statsmodels.iolib.summary.Summary'>\n",
       "\"\"\"\n",
       "                             OLS Regression Results                            \n",
       "===============================================================================\n",
       "Dep. Variable:     total_orders_placed   R-squared:                       0.432\n",
       "Model:                             OLS   Adj. R-squared:                  0.432\n",
       "Method:                  Least Squares   F-statistic:                     1096.\n",
       "Date:                 Sat, 08 Oct 2022   Prob (F-statistic):               0.00\n",
       "Time:                         11:49:10   Log-Likelihood:                -28524.\n",
       "No. Observations:                 4329   AIC:                         5.706e+04\n",
       "Df Residuals:                     4325   BIC:                         5.708e+04\n",
       "Df Model:                            3                                         \n",
       "Covariance Type:             nonrobust                                         \n",
       "==========================================================================================\n",
       "                             coef    std err          t      P>|t|      [0.025      0.975]\n",
       "------------------------------------------------------------------------------------------\n",
       "Intercept                 93.9231      2.675     35.110      0.000      88.679      99.168\n",
       "total_cancelled_orders   119.0675      2.915     40.848      0.000     113.353     124.782\n",
       "average_price_of_items    -1.7889      2.675     -0.669      0.504      -7.034       3.456\n",
       "total_quantity            60.3891      2.915     20.717      0.000      54.674      66.104\n",
       "==============================================================================\n",
       "Omnibus:                     7907.015   Durbin-Watson:                   1.983\n",
       "Prob(Omnibus):                  0.000   Jarque-Bera (JB):         24253997.001\n",
       "Skew:                          12.988   Prob(JB):                         0.00\n",
       "Kurtosis:                     368.773   Cond. No.                         1.52\n",
       "==============================================================================\n",
       "\n",
       "Notes:\n",
       "[1] Standard Errors assume that the covariance matrix of the errors is correctly specified.\n",
       "\"\"\""
      ]
     },
     "execution_count": 46,
     "metadata": {},
     "output_type": "execute_result"
    }
   ],
   "source": [
    "# Scale the predicting variables because they are on different scales\n",
    "# (the first one is in orders, and the second one is in pounds.)\n",
    "\n",
    "# create a list that includes the columns to scale\n",
    "cols = ['total_cancelled_orders', 'average_price_of_items', 'total_quantity']\n",
    "\n",
    "#scale columns by subtracting mean and dividing by standard deviation\n",
    "scaled_for_reg = pd.DataFrame(scale(joined[cols]),\n",
    "                   index=joined.index,\n",
    "                   columns=cols)\n",
    "\n",
    "#add column with variable to predict \n",
    "scaled_for_reg['total_orders_placed'] = joined['total_orders_placed']\n",
    "\n",
    "#this is the second model with the scaled columns.\n",
    "m2_scaled = sm.ols('total_orders_placed ~ total_cancelled_orders\\\n",
    "            + average_price_of_items + total_quantity',\\\n",
    "            scaled_for_reg).fit()\n",
    "\n",
    "m2_scaled.summary()"
   ]
  },
  {
   "cell_type": "markdown",
   "id": "612f7bba",
   "metadata": {},
   "source": [
    "# Distribution of Actual Values\n"
   ]
  },
  {
   "cell_type": "code",
   "execution_count": 47,
   "id": "cd65ca8a",
   "metadata": {},
   "outputs": [
    {
     "data": {
      "text/plain": [
       "<AxesSubplot:xlabel='total_orders_placed', ylabel='Density'>"
      ]
     },
     "execution_count": 47,
     "metadata": {},
     "output_type": "execute_result"
    },
    {
     "data": {
      "image/png": "[encoded data removed]",
      "text/plain": [
       "<Figure size 432x288 with 1 Axes>"
      ]
     },
     "metadata": {
      "needs_background": "light"
     },
     "output_type": "display_data"
    }
   ],
   "source": [
    "#Distribution of actual number of oders\n",
    "sns.kdeplot(joined['total_orders_placed'], shade=True, color = 'black')"
   ]
  },
  {
   "cell_type": "markdown",
   "id": "ed49d028",
   "metadata": {},
   "source": [
    "# Distribution of Baseline Model Fitted Values\n"
   ]
  },
  {
   "cell_type": "code",
   "execution_count": 48,
   "id": "ce0ab5a1",
   "metadata": {},
   "outputs": [
    {
     "data": {
      "text/plain": [
       "<AxesSubplot:ylabel='Density'>"
      ]
     },
     "execution_count": 48,
     "metadata": {},
     "output_type": "execute_result"
    },
    {
     "data": {
      "image/png": "[encoded data removed]",
      "text/plain": [
       "<Figure size 432x288 with 1 Axes>"
      ]
     },
     "metadata": {
      "needs_background": "light"
     },
     "output_type": "display_data"
    }
   ],
   "source": [
    "#distribution of predicted numbers of orders\n",
    "sns.kdeplot(m1_baseline.fittedvalues, shade=True, color='red')"
   ]
  },
  {
   "cell_type": "markdown",
   "id": "9278d471",
   "metadata": {},
   "source": [
    "# Distribution of Scaled Model Fitted Values\n"
   ]
  },
  {
   "cell_type": "code",
   "execution_count": 49,
   "id": "743be84d",
   "metadata": {},
   "outputs": [
    {
     "data": {
      "text/plain": [
       "<AxesSubplot:ylabel='Density'>"
      ]
     },
     "execution_count": 49,
     "metadata": {},
     "output_type": "execute_result"
    },
    {
     "data": {
      "image/png": "[encoded data removed]",
      "text/plain": [
       "<Figure size 432x288 with 1 Axes>"
      ]
     },
     "metadata": {
      "needs_background": "light"
     },
     "output_type": "display_data"
    }
   ],
   "source": [
    "#distribution of predicted numbers of orders second prediction \n",
    "sns.kdeplot(m2_scaled.fittedvalues, shade=True, color='green')"
   ]
  },
  {
   "cell_type": "code",
   "execution_count": 50,
   "id": "dba56f26",
   "metadata": {},
   "outputs": [
    {
     "data": {
      "image/png": "[encoded data removed]",
      "text/plain": [
       "<Figure size 720x432 with 1 Axes>"
      ]
     },
     "metadata": {
      "needs_background": "light"
     },
     "output_type": "display_data"
    }
   ],
   "source": [
    "#make put all in the same graph\n",
    "f, ax = plt.subplots(1, figsize=(10, 6))\n",
    "sns.kdeplot(joined['total_orders_placed'], shade=True, ax=ax, label='actual', color= 'black')\n",
    "sns.kdeplot(m2_scaled.fittedvalues, shade=True, ax=ax, label='scaled', color = 'orange')\n",
    "sns.kdeplot(m1_baseline.fittedvalues, shade=True, ax=ax, label='baseline', color = 'red')\n",
    "plt.show()"
   ]
  },
  {
   "cell_type": "markdown",
   "id": "3d40f4ff",
   "metadata": {},
   "source": [
    "# Adding a Categorial Variable"
   ]
  },
  {
   "cell_type": "code",
   "execution_count": 51,
   "id": "3c6f0deb",
   "metadata": {},
   "outputs": [],
   "source": [
    "# add \"country_of_origin\" variable to scaled dataset\n",
    "scaled_for_reg['country_of_origin'] = joined['country_of_origin']\n"
   ]
  },
  {
   "cell_type": "code",
   "execution_count": 52,
   "id": "cd0c508c",
   "metadata": {},
   "outputs": [],
   "source": [
    "#create lists of continents. \n",
    "north_europe=['Iceland','Norway','Denmark','Sweden','Finland','Lithuania',\\\n",
    "             'EIRE','Channel Islands','United Kingdom']\n",
    "east_europe=['Poland','Czech Republic']\n",
    "south_europe=['Greece','Italy', 'Malta','Spain','Portugal',]\n",
    "west_europe=['Switzerland', 'Austria','Belgium', 'Netherlands']\n",
    "asia=['Cyprus','Bahrain','Israel','Saudi Arabia','United Arab Emirates','Singapore',\\\n",
    "      'Japan','Lebanon']\n",
    "australia=['Australia']\n",
    "africa=['RSA']\n",
    "america=['USA','Brazil','Canada']"
   ]
  },
  {
   "cell_type": "code",
   "execution_count": 53,
   "id": "c9c5dc10",
   "metadata": {},
   "outputs": [],
   "source": [
    "# Code country of origin by continent \n",
    "\n",
    "# Create a function that will assign \"unspecified\"to all variables unless\n",
    "# The content of the row is in the list declared above. \n",
    "\n",
    "# Declare function\n",
    "def continent(row):\n",
    "    #assing all rows to unspecified \n",
    "    value = \"unspecified\"\n",
    "    # but, if country is contained in the list north_europe, \n",
    "    if row['country_of_origin'] in north_europe:\n",
    "        # give value europe and so on... \n",
    "        value = 'north europe'\n",
    "    if row['country_of_origin'] in south_europe: \n",
    "        value = 'south europe'\n",
    "    if row['country_of_origin'] in east_europe:\n",
    "        value = 'east europe'\n",
    "    if row['country_of_origin'] in west_europe:\n",
    "        value = 'west europe'\n",
    "    if row['country_of_origin'] in asia:\n",
    "        value ='asia'\n",
    "    if row['country_of_origin'] in australia:\n",
    "        value='australia'\n",
    "    if row['country_of_origin'] in africa:\n",
    "        value = 'africa'\n",
    "    if row['country_of_origin'] in america:\n",
    "        value= 'america'\n",
    "    #at the end, return value\n",
    "    return value\n",
    "\n",
    "# Create a new column 'continent_of_origin' and apply the function. \n",
    "scaled_for_reg['continent_of_origin'] = scaled_for_reg.apply(continent, axis=1)"
   ]
  },
  {
   "cell_type": "code",
   "execution_count": 54,
   "id": "e943e46e",
   "metadata": {},
   "outputs": [
    {
     "data": {
      "text/html": [
       "<div>\n",
       "<style scoped>\n",
       "    .dataframe tbody tr th:only-of-type {\n",
       "        vertical-align: middle;\n",
       "    }\n",
       "\n",
       "    .dataframe tbody tr th {\n",
       "        vertical-align: top;\n",
       "    }\n",
       "\n",
       "    .dataframe thead th {\n",
       "        text-align: right;\n",
       "    }\n",
       "</style>\n",
       "<table border=\"1\" class=\"dataframe\">\n",
       "  <thead>\n",
       "    <tr style=\"text-align: right;\">\n",
       "      <th></th>\n",
       "      <th>total_cancelled_orders</th>\n",
       "      <th>average_price_of_items</th>\n",
       "      <th>total_quantity</th>\n",
       "      <th>total_orders_placed</th>\n",
       "      <th>country_of_origin</th>\n",
       "      <th>continent_of_origin</th>\n",
       "    </tr>\n",
       "    <tr>\n",
       "      <th>CustomerID</th>\n",
       "      <th></th>\n",
       "      <th></th>\n",
       "      <th></th>\n",
       "      <th></th>\n",
       "      <th></th>\n",
       "      <th></th>\n",
       "    </tr>\n",
       "  </thead>\n",
       "  <tbody>\n",
       "    <tr>\n",
       "      <th>12346.0</th>\n",
       "      <td>-0.138582</td>\n",
       "      <td>-0.039814</td>\n",
       "      <td>-0.241563</td>\n",
       "      <td>2</td>\n",
       "      <td>United Kingdom</td>\n",
       "      <td>north europe</td>\n",
       "    </tr>\n",
       "    <tr>\n",
       "      <th>12347.0</th>\n",
       "      <td>-0.274465</td>\n",
       "      <td>-0.027125</td>\n",
       "      <td>0.282089</td>\n",
       "      <td>182</td>\n",
       "      <td>Iceland</td>\n",
       "      <td>north europe</td>\n",
       "    </tr>\n",
       "    <tr>\n",
       "      <th>12348.0</th>\n",
       "      <td>-0.274465</td>\n",
       "      <td>-0.002436</td>\n",
       "      <td>0.257164</td>\n",
       "      <td>31</td>\n",
       "      <td>Finland</td>\n",
       "      <td>north europe</td>\n",
       "    </tr>\n",
       "    <tr>\n",
       "      <th>12349.0</th>\n",
       "      <td>-0.274465</td>\n",
       "      <td>0.017533</td>\n",
       "      <td>-0.107135</td>\n",
       "      <td>73</td>\n",
       "      <td>Italy</td>\n",
       "      <td>south europe</td>\n",
       "    </tr>\n",
       "    <tr>\n",
       "      <th>12350.0</th>\n",
       "      <td>-0.274465</td>\n",
       "      <td>-0.017654</td>\n",
       "      <td>-0.199594</td>\n",
       "      <td>17</td>\n",
       "      <td>Norway</td>\n",
       "      <td>north europe</td>\n",
       "    </tr>\n",
       "  </tbody>\n",
       "</table>\n",
       "</div>"
      ],
      "text/plain": [
       "            total_cancelled_orders  average_price_of_items  total_quantity  \\\n",
       "CustomerID                                                                   \n",
       "12346.0                  -0.138582               -0.039814       -0.241563   \n",
       "12347.0                  -0.274465               -0.027125        0.282089   \n",
       "12348.0                  -0.274465               -0.002436        0.257164   \n",
       "12349.0                  -0.274465                0.017533       -0.107135   \n",
       "12350.0                  -0.274465               -0.017654       -0.199594   \n",
       "\n",
       "            total_orders_placed country_of_origin continent_of_origin  \n",
       "CustomerID                                                             \n",
       "12346.0                       2    United Kingdom        north europe  \n",
       "12347.0                     182           Iceland        north europe  \n",
       "12348.0                      31           Finland        north europe  \n",
       "12349.0                      73             Italy        south europe  \n",
       "12350.0                      17            Norway        north europe  "
      ]
     },
     "execution_count": 54,
     "metadata": {},
     "output_type": "execute_result"
    }
   ],
   "source": [
    "scaled_for_reg.head()"
   ]
  },
  {
   "cell_type": "code",
   "execution_count": 55,
   "id": "7d230448",
   "metadata": {},
   "outputs": [
    {
     "data": {
      "text/html": [
       "<table class=\"simpletable\">\n",
       "<caption>OLS Regression Results</caption>\n",
       "<tr>\n",
       "  <th>Dep. Variable:</th>    <td>total_orders_placed</td> <th>  R-squared:         </th> <td>   0.435</td> \n",
       "</tr>\n",
       "<tr>\n",
       "  <th>Model:</th>                    <td>OLS</td>         <th>  Adj. R-squared:    </th> <td>   0.434</td> \n",
       "</tr>\n",
       "<tr>\n",
       "  <th>Method:</th>              <td>Least Squares</td>    <th>  F-statistic:       </th> <td>   302.2</td> \n",
       "</tr>\n",
       "<tr>\n",
       "  <th>Date:</th>              <td>Sat, 08 Oct 2022</td>   <th>  Prob (F-statistic):</th>  <td>  0.00</td>  \n",
       "</tr>\n",
       "<tr>\n",
       "  <th>Time:</th>                  <td>11:49:12</td>       <th>  Log-Likelihood:    </th> <td> -28512.</td> \n",
       "</tr>\n",
       "<tr>\n",
       "  <th>No. Observations:</th>       <td>  4329</td>        <th>  AIC:               </th> <td>5.705e+04</td>\n",
       "</tr>\n",
       "<tr>\n",
       "  <th>Df Residuals:</th>           <td>  4317</td>        <th>  BIC:               </th> <td>5.712e+04</td>\n",
       "</tr>\n",
       "<tr>\n",
       "  <th>Df Model:</th>               <td>    11</td>        <th>                     </th>     <td> </td>    \n",
       "</tr>\n",
       "<tr>\n",
       "  <th>Covariance Type:</th>       <td>nonrobust</td>      <th>                     </th>     <td> </td>    \n",
       "</tr>\n",
       "</table>\n",
       "<table class=\"simpletable\">\n",
       "<tr>\n",
       "                   <td></td>                      <th>coef</th>     <th>std err</th>      <th>t</th>      <th>P>|t|</th>  <th>[0.025</th>    <th>0.975]</th>  \n",
       "</tr>\n",
       "<tr>\n",
       "  <th>Intercept</th>                           <td>  101.0047</td> <td>  175.700</td> <td>    0.575</td> <td> 0.565</td> <td> -243.458</td> <td>  445.468</td>\n",
       "</tr>\n",
       "<tr>\n",
       "  <th>continent_of_origin[T.america]</th>      <td> -209.5437</td> <td>  185.268</td> <td>   -1.131</td> <td> 0.258</td> <td> -572.764</td> <td>  153.677</td>\n",
       "</tr>\n",
       "<tr>\n",
       "  <th>continent_of_origin[T.asia]</th>         <td>  -43.5819</td> <td>  179.181</td> <td>   -0.243</td> <td> 0.808</td> <td> -394.868</td> <td>  307.704</td>\n",
       "</tr>\n",
       "<tr>\n",
       "  <th>continent_of_origin[T.australia]</th>    <td> -160.7675</td> <td>  185.277</td> <td>   -0.868</td> <td> 0.386</td> <td> -524.006</td> <td>  202.471</td>\n",
       "</tr>\n",
       "<tr>\n",
       "  <th>continent_of_origin[T.east europe]</th>  <td>  -45.4977</td> <td>  187.832</td> <td>   -0.242</td> <td> 0.809</td> <td> -413.744</td> <td>  322.749</td>\n",
       "</tr>\n",
       "<tr>\n",
       "  <th>continent_of_origin[T.north europe]</th> <td>   -4.7560</td> <td>  175.722</td> <td>   -0.027</td> <td> 0.978</td> <td> -349.262</td> <td>  339.750</td>\n",
       "</tr>\n",
       "<tr>\n",
       "  <th>continent_of_origin[T.south europe]</th> <td>  -19.1170</td> <td>  177.006</td> <td>   -0.108</td> <td> 0.914</td> <td> -366.140</td> <td>  327.906</td>\n",
       "</tr>\n",
       "<tr>\n",
       "  <th>continent_of_origin[T.unspecified]</th>  <td>  -23.6540</td> <td>  176.174</td> <td>   -0.134</td> <td> 0.893</td> <td> -369.046</td> <td>  321.738</td>\n",
       "</tr>\n",
       "<tr>\n",
       "  <th>continent_of_origin[T.west europe]</th>  <td>  -22.3713</td> <td>  177.124</td> <td>   -0.126</td> <td> 0.899</td> <td> -369.625</td> <td>  324.883</td>\n",
       "</tr>\n",
       "<tr>\n",
       "  <th>total_cancelled_orders</th>              <td>  119.9130</td> <td>    2.923</td> <td>   41.030</td> <td> 0.000</td> <td>  114.183</td> <td>  125.643</td>\n",
       "</tr>\n",
       "<tr>\n",
       "  <th>average_price_of_items</th>              <td>   -1.8162</td> <td>    2.670</td> <td>   -0.680</td> <td> 0.496</td> <td>   -7.052</td> <td>    3.419</td>\n",
       "</tr>\n",
       "<tr>\n",
       "  <th>total_quantity</th>                      <td>   60.7455</td> <td>    2.931</td> <td>   20.725</td> <td> 0.000</td> <td>   54.999</td> <td>   66.492</td>\n",
       "</tr>\n",
       "</table>\n",
       "<table class=\"simpletable\">\n",
       "<tr>\n",
       "  <th>Omnibus:</th>       <td>7916.610</td> <th>  Durbin-Watson:     </th>   <td>   1.985</td>  \n",
       "</tr>\n",
       "<tr>\n",
       "  <th>Prob(Omnibus):</th>  <td> 0.000</td>  <th>  Jarque-Bera (JB):  </th> <td>24173155.096</td>\n",
       "</tr>\n",
       "<tr>\n",
       "  <th>Skew:</th>           <td>13.027</td>  <th>  Prob(JB):          </th>   <td>    0.00</td>  \n",
       "</tr>\n",
       "<tr>\n",
       "  <th>Kurtosis:</th>       <td>368.154</td> <th>  Cond. No.          </th>   <td>    271.</td>  \n",
       "</tr>\n",
       "</table><br/><br/>Notes:<br/>[1] Standard Errors assume that the covariance matrix of the errors is correctly specified."
      ],
      "text/plain": [
       "<class 'statsmodels.iolib.summary.Summary'>\n",
       "\"\"\"\n",
       "                             OLS Regression Results                            \n",
       "===============================================================================\n",
       "Dep. Variable:     total_orders_placed   R-squared:                       0.435\n",
       "Model:                             OLS   Adj. R-squared:                  0.434\n",
       "Method:                  Least Squares   F-statistic:                     302.2\n",
       "Date:                 Sat, 08 Oct 2022   Prob (F-statistic):               0.00\n",
       "Time:                         11:49:12   Log-Likelihood:                -28512.\n",
       "No. Observations:                 4329   AIC:                         5.705e+04\n",
       "Df Residuals:                     4317   BIC:                         5.712e+04\n",
       "Df Model:                           11                                         \n",
       "Covariance Type:             nonrobust                                         \n",
       "=======================================================================================================\n",
       "                                          coef    std err          t      P>|t|      [0.025      0.975]\n",
       "-------------------------------------------------------------------------------------------------------\n",
       "Intercept                             101.0047    175.700      0.575      0.565    -243.458     445.468\n",
       "continent_of_origin[T.america]       -209.5437    185.268     -1.131      0.258    -572.764     153.677\n",
       "continent_of_origin[T.asia]           -43.5819    179.181     -0.243      0.808    -394.868     307.704\n",
       "continent_of_origin[T.australia]     -160.7675    185.277     -0.868      0.386    -524.006     202.471\n",
       "continent_of_origin[T.east europe]    -45.4977    187.832     -0.242      0.809    -413.744     322.749\n",
       "continent_of_origin[T.north europe]    -4.7560    175.722     -0.027      0.978    -349.262     339.750\n",
       "continent_of_origin[T.south europe]   -19.1170    177.006     -0.108      0.914    -366.140     327.906\n",
       "continent_of_origin[T.unspecified]    -23.6540    176.174     -0.134      0.893    -369.046     321.738\n",
       "continent_of_origin[T.west europe]    -22.3713    177.124     -0.126      0.899    -369.625     324.883\n",
       "total_cancelled_orders                119.9130      2.923     41.030      0.000     114.183     125.643\n",
       "average_price_of_items                 -1.8162      2.670     -0.680      0.496      -7.052       3.419\n",
       "total_quantity                         60.7455      2.931     20.725      0.000      54.999      66.492\n",
       "==============================================================================\n",
       "Omnibus:                     7916.610   Durbin-Watson:                   1.985\n",
       "Prob(Omnibus):                  0.000   Jarque-Bera (JB):         24173155.096\n",
       "Skew:                          13.027   Prob(JB):                         0.00\n",
       "Kurtosis:                     368.154   Cond. No.                         271.\n",
       "==============================================================================\n",
       "\n",
       "Notes:\n",
       "[1] Standard Errors assume that the covariance matrix of the errors is correctly specified.\n",
       "\"\"\""
      ]
     },
     "execution_count": 55,
     "metadata": {},
     "output_type": "execute_result"
    }
   ],
   "source": [
    "# create new model\n",
    "m3_improved = sm.ols('total_orders_placed ~ total_cancelled_orders\\\n",
    "            + average_price_of_items + continent_of_origin + total_quantity', scaled_for_reg ).fit()\n",
    "# look at model summary\n",
    "m3_improved.summary()"
   ]
  },
  {
   "cell_type": "markdown",
   "id": "15b0b26e",
   "metadata": {},
   "source": [
    "# Model Explaination\n",
    "From the summary of the model containing country of origin as a predictor, I can infer that:\n",
    "\n",
    "The R squared value increases to 0.435\n",
    "Coefficients suggest that being from the American continent, decreases the most the number of orders placed. While being from north europe decreases it the least, suggesting that the latter, brings the most customers (as observed above)."
   ]
  },
  {
   "cell_type": "markdown",
   "id": "417077ad",
   "metadata": {},
   "source": [
    "# Predictive Checking"
   ]
  },
  {
   "cell_type": "code",
   "execution_count": 56,
   "id": "8113ed67",
   "metadata": {},
   "outputs": [
    {
     "data": {
      "image/png": "[encoded data removed]",
      "text/plain": [
       "<Figure size 1080x360 with 1 Axes>"
      ]
     },
     "metadata": {
      "needs_background": "light"
     },
     "output_type": "display_data"
    }
   ],
   "source": [
    "\n",
    "# graph baseline, scaled and categorical model\n",
    "f, ax = plt.subplots(1, figsize=(15, 5))\n",
    "# first plot \n",
    "sns.kdeplot(joined['total_orders_placed'], shade=True, ax=ax,\\\n",
    "            label='actual', color = 'black')\n",
    "# second plot \n",
    "sns.kdeplot(m2_scaled.fittedvalues, shade=True, ax=ax, \\\n",
    "            label='scaled', color= 'orange')\n",
    "# third plot \n",
    "sns.kdeplot(m3_improved.fittedvalues, shade=True, ax=ax,\\\n",
    "            label='with categorical', color='green')\n",
    "\n",
    "plt.show()\n"
   ]
  },
  {
   "cell_type": "markdown",
   "id": "f8597788",
   "metadata": {},
   "source": [
    "# Model performance"
   ]
  },
  {
   "cell_type": "code",
   "execution_count": 57,
   "id": "c14bee71",
   "metadata": {},
   "outputs": [
    {
     "data": {
      "text/plain": [
       "Baseline Model    0.432001\n",
       "Latest Model      0.435042\n",
       "dtype: float64"
      ]
     },
     "execution_count": 57,
     "metadata": {},
     "output_type": "execute_result"
    }
   ],
   "source": [
    "#R^2\n",
    "r2 = pd.Series({'Baseline Model': metrics.r2_score(joined['total_orders_placed'],\n",
    "                                              m1_baseline.fittedvalues),\n",
    "                'Latest Model': metrics.r2_score(scaled_for_reg['total_orders_placed'],\n",
    "                                              m3_improved.fittedvalues)})\n",
    "r2"
   ]
  },
  {
   "cell_type": "code",
   "execution_count": 58,
   "id": "a16baba7",
   "metadata": {},
   "outputs": [],
   "source": [
    "# MSE\n",
    "mse = pd.Series({'Baseline Model': metrics.mean_squared_error(joined['total_orders_placed'],\n",
    "                                                        m1_baseline.fittedvalues),\n",
    "                 'Latest Model': metrics.mean_squared_error(scaled_for_reg['total_orders_placed'],\n",
    "                                                         m3_improved.fittedvalues)})"
   ]
  },
  {
   "cell_type": "code",
   "execution_count": 59,
   "id": "a1712b71",
   "metadata": {},
   "outputs": [],
   "source": [
    "# MAE\n",
    "# taking the MAE between actual values and the values forecasted by the baseline model\n",
    "mae = pd.Series({'Baseline Model': metrics.mean_absolute_error(joined['total_orders_placed'],\n",
    "                                                         m1_baseline.fittedvalues),\n",
    "                 #taking the MAE between actual values and the values forecasted by m3 model\n",
    "                 'Latest Model': metrics.mean_absolute_error(scaled_for_reg['total_orders_placed'],\n",
    "                                                          m3_improved.fittedvalues)})"
   ]
  },
  {
   "cell_type": "code",
   "execution_count": 60,
   "id": "fcc206d9",
   "metadata": {},
   "outputs": [
    {
     "data": {
      "text/html": [
       "<div>\n",
       "<style scoped>\n",
       "    .dataframe tbody tr th:only-of-type {\n",
       "        vertical-align: middle;\n",
       "    }\n",
       "\n",
       "    .dataframe tbody tr th {\n",
       "        vertical-align: top;\n",
       "    }\n",
       "\n",
       "    .dataframe thead th {\n",
       "        text-align: right;\n",
       "    }\n",
       "</style>\n",
       "<table border=\"1\" class=\"dataframe\">\n",
       "  <thead>\n",
       "    <tr style=\"text-align: right;\">\n",
       "      <th></th>\n",
       "      <th>MAE</th>\n",
       "      <th>MSE</th>\n",
       "      <th>R^2</th>\n",
       "    </tr>\n",
       "  </thead>\n",
       "  <tbody>\n",
       "    <tr>\n",
       "      <th>Baseline Model</th>\n",
       "      <td>67.986127</td>\n",
       "      <td>30950.149493</td>\n",
       "      <td>0.432001</td>\n",
       "    </tr>\n",
       "    <tr>\n",
       "      <th>Latest Model</th>\n",
       "      <td>68.639493</td>\n",
       "      <td>30784.473586</td>\n",
       "      <td>0.435042</td>\n",
       "    </tr>\n",
       "  </tbody>\n",
       "</table>\n",
       "</div>"
      ],
      "text/plain": [
       "                      MAE           MSE       R^2\n",
       "Baseline Model  67.986127  30950.149493  0.432001\n",
       "Latest Model    68.639493  30784.473586  0.435042"
      ]
     },
     "execution_count": 60,
     "metadata": {},
     "output_type": "execute_result"
    }
   ],
   "source": [
    "perf = pd.DataFrame({'MAE': mae,\n",
    "                     'MSE': mse,\n",
    "                     'R^2': r2})\n",
    "perf"
   ]
  },
  {
   "cell_type": "markdown",
   "id": "f9fd34a1",
   "metadata": {},
   "source": [
    "# Cross-Validation\n",
    "##Split the Data into Train and Test set\n"
   ]
  },
  {
   "cell_type": "code",
   "execution_count": 61,
   "id": "1862f8ec",
   "metadata": {},
   "outputs": [],
   "source": [
    "##Split the Data into Train and Test set\n",
    "# Split dataset into train (80%) and test set (20%)\n",
    "# names of predictive variables\n",
    "cols = ['total_cancelled_orders', 'average_price_of_items',\\\n",
    "            'total_quantity'] \n",
    "\n",
    "# create test and train sets \n",
    "x_train, x_test, y_train, y_test =\\\n",
    "                    model_selection.train_test_split(scaled_for_reg[cols], \n",
    "                                                    joined['total_orders_placed'],\n",
    "                                                    test_size=0.8)"
   ]
  },
  {
   "cell_type": "markdown",
   "id": "ff5eaf32",
   "metadata": {},
   "source": [
    "# Train Model on Train Set\n"
   ]
  },
  {
   "cell_type": "code",
   "execution_count": 62,
   "id": "52453364",
   "metadata": {},
   "outputs": [],
   "source": [
    "# Train data on train set\n",
    "# f is a variable that includes the regression equation\n",
    "f = 'total_orders_placed ~ total_cancelled_orders + average_price_of_items + total_quantity'\n",
    "\n",
    "# this is the regression model\n",
    "m1_train = sm.ols(f, x_train.assign(total_orders_placed=y_train)).fit()"
   ]
  },
  {
   "cell_type": "markdown",
   "id": "27bab620",
   "metadata": {},
   "source": [
    "# Compare Parameters and R Squared\n"
   ]
  },
  {
   "cell_type": "code",
   "execution_count": 63,
   "id": "bf2bc960",
   "metadata": {},
   "outputs": [
    {
     "data": {
      "text/html": [
       "<div>\n",
       "<style scoped>\n",
       "    .dataframe tbody tr th:only-of-type {\n",
       "        vertical-align: middle;\n",
       "    }\n",
       "\n",
       "    .dataframe tbody tr th {\n",
       "        vertical-align: top;\n",
       "    }\n",
       "\n",
       "    .dataframe thead th {\n",
       "        text-align: right;\n",
       "    }\n",
       "</style>\n",
       "<table border=\"1\" class=\"dataframe\">\n",
       "  <thead>\n",
       "    <tr style=\"text-align: right;\">\n",
       "      <th></th>\n",
       "      <th>Full Dataset</th>\n",
       "      <th>Train Set</th>\n",
       "    </tr>\n",
       "  </thead>\n",
       "  <tbody>\n",
       "    <tr>\n",
       "      <th>Intercept</th>\n",
       "      <td>46.741357</td>\n",
       "      <td>91.066402</td>\n",
       "    </tr>\n",
       "    <tr>\n",
       "      <th>total_cancelled_orders</th>\n",
       "      <td>16.179230</td>\n",
       "      <td>66.618964</td>\n",
       "    </tr>\n",
       "    <tr>\n",
       "      <th>average_price_of_items</th>\n",
       "      <td>-0.014152</td>\n",
       "      <td>-56.268579</td>\n",
       "    </tr>\n",
       "    <tr>\n",
       "      <th>total_quantity</th>\n",
       "      <td>0.012865</td>\n",
       "      <td>83.122522</td>\n",
       "    </tr>\n",
       "  </tbody>\n",
       "</table>\n",
       "</div>"
      ],
      "text/plain": [
       "                        Full Dataset  Train Set\n",
       "Intercept                  46.741357  91.066402\n",
       "total_cancelled_orders     16.179230  66.618964\n",
       "average_price_of_items     -0.014152 -56.268579\n",
       "total_quantity              0.012865  83.122522"
      ]
     },
     "execution_count": 63,
     "metadata": {},
     "output_type": "execute_result"
    }
   ],
   "source": [
    "# create data frame containin the parameters of full set and of train set\n",
    "pd.DataFrame({'Full Dataset': m1_baseline.params,\n",
    "              'Train Set': m1_train.params})"
   ]
  },
  {
   "cell_type": "code",
   "execution_count": 64,
   "id": "7c647050",
   "metadata": {},
   "outputs": [
    {
     "data": {
      "text/plain": [
       "Full Dataset    0.432001\n",
       "Train Set       0.510647\n",
       "dtype: float64"
      ]
     },
     "execution_count": 64,
     "metadata": {},
     "output_type": "execute_result"
    }
   ],
   "source": [
    "# explore r quared of full data set and of train set \n",
    "pd.Series({'Full Dataset': m1_baseline.rsquared,\n",
    "           'Train Set': m1_train.rsquared})"
   ]
  },
  {
   "cell_type": "markdown",
   "id": "ffabbded",
   "metadata": {},
   "source": [
    "# Predict Test Set Values and Explore R Squared\n"
   ]
  },
  {
   "cell_type": "code",
   "execution_count": 65,
   "id": "c0ce4041",
   "metadata": {},
   "outputs": [
    {
     "data": {
      "text/plain": [
       "0-Full Dataset    0.432001\n",
       "1-Train Set       0.510647\n",
       "2-Test Set        0.316475\n",
       "dtype: float64"
      ]
     },
     "execution_count": 65,
     "metadata": {},
     "output_type": "execute_result"
    }
   ],
   "source": [
    "# make predictions on test set. \n",
    "test_prediction = m1_train.params['Intercept'] + \\\n",
    "            x_test.dot(m1_train.params.drop('Intercept'))\n",
    "\n",
    "#create a series with the r squared of baseline, train set data and test set data\n",
    "pd.Series({'0-Full Dataset': m1_baseline.rsquared,\n",
    "           '1-Train Set': m1_train.rsquared,\n",
    "           '2-Test Set': metrics.r2_score(y_test,\n",
    "                                        test_prediction)})"
   ]
  },
  {
   "cell_type": "markdown",
   "id": "2509b892",
   "metadata": {},
   "source": [
    "# Improve the model: Random forest"
   ]
  },
  {
   "cell_type": "code",
   "execution_count": 66,
   "id": "7009f67c",
   "metadata": {},
   "outputs": [],
   "source": [
    "# run random forest regression. we can fit and predict in the same line\n",
    "m4_RandomF = RandomForestRegressor().fit(joined[cols], joined['total_orders_placed'])\\\n",
    "                            .predict(joined[cols])"
   ]
  },
  {
   "cell_type": "markdown",
   "id": "9bb493e4",
   "metadata": {},
   "source": [
    "# Assess Performance\n"
   ]
  },
  {
   "cell_type": "code",
   "execution_count": 67,
   "id": "859e8684",
   "metadata": {},
   "outputs": [
    {
     "data": {
      "text/html": [
       "<div>\n",
       "<style scoped>\n",
       "    .dataframe tbody tr th:only-of-type {\n",
       "        vertical-align: middle;\n",
       "    }\n",
       "\n",
       "    .dataframe tbody tr th {\n",
       "        vertical-align: top;\n",
       "    }\n",
       "\n",
       "    .dataframe thead th {\n",
       "        text-align: right;\n",
       "    }\n",
       "</style>\n",
       "<table border=\"1\" class=\"dataframe\">\n",
       "  <thead>\n",
       "    <tr style=\"text-align: right;\">\n",
       "      <th></th>\n",
       "      <th>MAE</th>\n",
       "      <th>MSE</th>\n",
       "      <th>R^2</th>\n",
       "    </tr>\n",
       "  </thead>\n",
       "  <tbody>\n",
       "    <tr>\n",
       "      <th>Baseline Model</th>\n",
       "      <td>67.986127</td>\n",
       "      <td>30950.149493</td>\n",
       "      <td>0.432001</td>\n",
       "    </tr>\n",
       "    <tr>\n",
       "      <th>Latest Model</th>\n",
       "      <td>68.639493</td>\n",
       "      <td>30784.473586</td>\n",
       "      <td>0.435042</td>\n",
       "    </tr>\n",
       "    <tr>\n",
       "      <th>Random Forest</th>\n",
       "      <td>20.661268</td>\n",
       "      <td>3989.315289</td>\n",
       "      <td>0.926788</td>\n",
       "    </tr>\n",
       "  </tbody>\n",
       "</table>\n",
       "</div>"
      ],
      "text/plain": [
       "                      MAE           MSE       R^2\n",
       "Baseline Model  67.986127  30950.149493  0.432001\n",
       "Latest Model    68.639493  30784.473586  0.435042\n",
       "Random Forest   20.661268   3989.315289  0.926788"
      ]
     },
     "execution_count": 67,
     "metadata": {},
     "output_type": "execute_result"
    }
   ],
   "source": [
    "# examine MAE MSE and R suqared of FR \n",
    "rf = pd.Series({'R^2': metrics.r2_score(joined['total_orders_placed'], m4_RandomF), \n",
    "                'MSE': metrics.mean_squared_error(joined['total_orders_placed'], m4_RandomF),\n",
    "                'MAE': metrics.mean_absolute_error(joined['total_orders_placed'], m4_RandomF)})\n",
    "\n",
    "# add RF performance indicators to the table of baseline and m3 model\n",
    "pd.concat([perf, \n",
    "           pd.DataFrame({'Random Forest': rf}).T])"
   ]
  },
  {
   "cell_type": "markdown",
   "id": "2cb18553",
   "metadata": {},
   "source": [
    "# Random Forest Cross Validated"
   ]
  },
  {
   "cell_type": "code",
   "execution_count": 68,
   "id": "02611432",
   "metadata": {},
   "outputs": [],
   "source": [
    "# previously the model was fitted on the same dataset where the predictions were made.\n",
    "# in this case, we are making the predictions on the text set\n",
    "\n",
    "# random forest cross validation. \n",
    "m4_cv = RandomForestRegressor().fit(x_train, y_train).predict(x_test)"
   ]
  },
  {
   "cell_type": "code",
   "execution_count": 69,
   "id": "0b256562",
   "metadata": {},
   "outputs": [
    {
     "data": {
      "text/html": [
       "<div>\n",
       "<style scoped>\n",
       "    .dataframe tbody tr th:only-of-type {\n",
       "        vertical-align: middle;\n",
       "    }\n",
       "\n",
       "    .dataframe tbody tr th {\n",
       "        vertical-align: top;\n",
       "    }\n",
       "\n",
       "    .dataframe thead th {\n",
       "        text-align: right;\n",
       "    }\n",
       "</style>\n",
       "<table border=\"1\" class=\"dataframe\">\n",
       "  <thead>\n",
       "    <tr style=\"text-align: right;\">\n",
       "      <th></th>\n",
       "      <th>MAE</th>\n",
       "      <th>MSE</th>\n",
       "      <th>R^2</th>\n",
       "    </tr>\n",
       "  </thead>\n",
       "  <tbody>\n",
       "    <tr>\n",
       "      <th>Baseline Model</th>\n",
       "      <td>67.986127</td>\n",
       "      <td>30950.149493</td>\n",
       "      <td>0.432001</td>\n",
       "    </tr>\n",
       "    <tr>\n",
       "      <th>Latest Model</th>\n",
       "      <td>68.639493</td>\n",
       "      <td>30784.473586</td>\n",
       "      <td>0.435042</td>\n",
       "    </tr>\n",
       "    <tr>\n",
       "      <th>RF</th>\n",
       "      <td>20.661268</td>\n",
       "      <td>3989.315289</td>\n",
       "      <td>0.926788</td>\n",
       "    </tr>\n",
       "    <tr>\n",
       "      <th>RF-CV</th>\n",
       "      <td>55.244899</td>\n",
       "      <td>43414.937844</td>\n",
       "      <td>0.296683</td>\n",
       "    </tr>\n",
       "  </tbody>\n",
       "</table>\n",
       "</div>"
      ],
      "text/plain": [
       "                      MAE           MSE       R^2\n",
       "Baseline Model  67.986127  30950.149493  0.432001\n",
       "Latest Model    68.639493  30784.473586  0.435042\n",
       "RF              20.661268   3989.315289  0.926788\n",
       "RF-CV           55.244899  43414.937844  0.296683"
      ]
     },
     "execution_count": 69,
     "metadata": {},
     "output_type": "execute_result"
    }
   ],
   "source": [
    "# get MSE, MAE e R2 for cross validated RF\n",
    "rf_cv = pd.Series({'R^2': metrics.r2_score(y_test, m4_cv), \n",
    "                'MSE': metrics.mean_squared_error(y_test, m4_cv),\n",
    "                'MAE': metrics.mean_absolute_error(y_test, m4_cv)})\n",
    "pd.concat([perf, \n",
    "           pd.DataFrame({'RF': rf}).T,\n",
    "           pd.DataFrame({'RF-CV': rf_cv}).T])"
   ]
  },
  {
   "cell_type": "code",
   "execution_count": null,
   "id": "aa509ba0",
   "metadata": {},
   "outputs": [],
   "source": []
  },
  {
   "cell_type": "code",
   "execution_count": null,
   "id": "fe3cfc2d",
   "metadata": {},
   "outputs": [],
   "source": []
  }
 ],
 "metadata": {
  "kernelspec": {
   "display_name": "Python 3 (ipykernel)",
   "language": "python",
   "name": "python3"
  },
  "language_info": {
   "codemirror_mode": {
    "name": "ipython",
    "version": 3
   },
   "file_extension": ".py",
   "mimetype": "text/x-python",
   "name": "python",
   "nbconvert_exporter": "python",
   "pygments_lexer": "ipython3",
   "version": "3.9.12"
  }
 },
 "nbformat": 4,
 "nbformat_minor": 5
}
